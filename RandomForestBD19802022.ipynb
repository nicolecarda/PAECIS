{
 "cells": [
  {
   "cell_type": "code",
   "execution_count": 1,
   "metadata": {},
   "outputs": [
    {
     "name": "stdout",
     "output_type": "stream",
     "text": [
      "Requirement already satisfied: scikit-learn in c:\\users\\niki\\anaconda3\\lib\\site-packages (1.2.2)\n",
      "Requirement already satisfied: numpy>=1.17.3 in c:\\users\\niki\\anaconda3\\lib\\site-packages (from scikit-learn) (1.26.4)\n",
      "Requirement already satisfied: scipy>=1.3.2 in c:\\users\\niki\\anaconda3\\lib\\site-packages (from scikit-learn) (1.11.4)\n",
      "Requirement already satisfied: joblib>=1.1.1 in c:\\users\\niki\\anaconda3\\lib\\site-packages (from scikit-learn) (1.2.0)\n",
      "Requirement already satisfied: threadpoolctl>=2.0.0 in c:\\users\\niki\\anaconda3\\lib\\site-packages (from scikit-learn) (2.2.0)\n",
      "Note: you may need to restart the kernel to use updated packages.\n"
     ]
    }
   ],
   "source": [
    "%pip install scikit-learn"
   ]
  },
  {
   "cell_type": "code",
   "execution_count": 3,
   "metadata": {},
   "outputs": [],
   "source": [
    "from ast import increment_lineno\n",
    "# Importación de librerias\n",
    "import numpy as np\n",
    "import pandas as pd\n",
    "import matplotlib.pyplot as plt\n",
    "import seaborn as sns\n",
    "from sklearn import datasets\n",
    "from sklearn import metrics\n",
    "%matplotlib inline"
   ]
  },
  {
   "cell_type": "code",
   "execution_count": 1,
   "metadata": {},
   "outputs": [
    {
     "ename": "NameError",
     "evalue": "name 'pd' is not defined",
     "output_type": "error",
     "traceback": [
      "\u001b[1;31m---------------------------------------------------------------------------\u001b[0m",
      "\u001b[1;31mNameError\u001b[0m                                 Traceback (most recent call last)",
      "Cell \u001b[1;32mIn[1], line 4\u001b[0m\n\u001b[0;32m      1\u001b[0m \u001b[38;5;66;03m# guardo la ubicacion del excel en una variable y luego en un dataframe\u001b[39;00m\n\u001b[0;32m      3\u001b[0m ubicacion \u001b[38;5;241m=\u001b[39m \u001b[38;5;124mf\u001b[39m\u001b[38;5;124m'\u001b[39m\u001b[38;5;124m/archivos/S_MVH_AX02.xlsx\u001b[39m\u001b[38;5;124m'\u001b[39m\n\u001b[1;32m----> 4\u001b[0m data \u001b[38;5;241m=\u001b[39m pd\u001b[38;5;241m.\u001b[39mread_excel(ubicacion, sheet_name\u001b[38;5;241m=\u001b[39m\u001b[38;5;124m'\u001b[39m\u001b[38;5;124mS_MVH_AX02\u001b[39m\u001b[38;5;124m'\u001b[39m, header \u001b[38;5;241m=\u001b[39m\u001b[38;5;241m1\u001b[39m)\n",
      "\u001b[1;31mNameError\u001b[0m: name 'pd' is not defined"
     ]
    }
   ],
   "source": [
    "# guardo la ubicacion del excel en una variable y luego en un dataframe\n",
    "\n",
    "ubicacion = f'archivos/S_MVH_AX02.xlsx'\n",
    "data = pd.read_excel(ubicacion, sheet_name='S_MVH_AX02', header =1)"
   ]
  },
  {
   "cell_type": "code",
   "execution_count": 7,
   "metadata": {},
   "outputs": [
    {
     "data": {
      "text/plain": [
       "array(['Año', 'Egresos', 'Día-cama disponible',\n",
       "       'Promedio día-cama disponible', 'Paciente-día',\n",
       "       'Promedio paciente-día', 'Promedio de permanencia',\n",
       "       'Porcentaje ocupacional'], dtype=object)"
      ]
     },
     "execution_count": 7,
     "metadata": {},
     "output_type": "execute_result"
    }
   ],
   "source": [
    "# traigo las columnas del dataframe\n",
    "data.columns.values"
   ]
  },
  {
   "cell_type": "code",
   "execution_count": 8,
   "metadata": {},
   "outputs": [],
   "source": [
    "# importo más librerias\n",
    "from sklearn.model_selection import train_test_split, GridSearchCV\n",
    "from sklearn.ensemble import RandomForestRegressor\n",
    "from sklearn.metrics import mean_squared_error, r2_score\n",
    "from sklearn.preprocessing import OneHotEncoder, StandardScaler\n",
    "from sklearn.compose import ColumnTransformer\n",
    "from sklearn.pipeline import Pipeline"
   ]
  },
  {
   "cell_type": "code",
   "execution_count": 9,
   "metadata": {},
   "outputs": [],
   "source": [
    "# Elimino ciertas columnas\n",
    "\n",
    "data = data.drop(columns=[ 'Paciente-día','Promedio día-cama disponible', 'Promedio paciente-día', 'Porcentaje ocupacional'])"
   ]
  },
  {
   "cell_type": "code",
   "execution_count": 10,
   "metadata": {},
   "outputs": [
    {
     "data": {
      "text/plain": [
       "array(['Año', 'Egresos', 'Día-cama disponible', 'Promedio de permanencia'],\n",
       "      dtype=object)"
      ]
     },
     "execution_count": 10,
     "metadata": {},
     "output_type": "execute_result"
    }
   ],
   "source": [
    "# Traigo columnas para comprobar que se borraron correctamente\n",
    "data.columns.values"
   ]
  },
  {
   "cell_type": "code",
   "execution_count": 11,
   "metadata": {},
   "outputs": [
    {
     "data": {
      "text/plain": [
       "Año                         0.000000\n",
       "Egresos                    17.948718\n",
       "Día-cama disponible        17.948718\n",
       "Promedio de permanencia    17.948718\n",
       "dtype: float64"
      ]
     },
     "execution_count": 11,
     "metadata": {},
     "output_type": "execute_result"
    }
   ],
   "source": [
    "# Chequeo existencia de nulos\n",
    "\n",
    "data.isnull().sum()/len(data)*100"
   ]
  },
  {
   "cell_type": "code",
   "execution_count": 12,
   "metadata": {},
   "outputs": [],
   "source": [
    "# Eliminar filas con valores nulos\n",
    "\n",
    "data = data.dropna()"
   ]
  },
  {
   "cell_type": "code",
   "execution_count": 13,
   "metadata": {},
   "outputs": [
    {
     "data": {
      "text/plain": [
       "Año                        0.0\n",
       "Egresos                    0.0\n",
       "Día-cama disponible        0.0\n",
       "Promedio de permanencia    0.0\n",
       "dtype: float64"
      ]
     },
     "execution_count": 13,
     "metadata": {},
     "output_type": "execute_result"
    }
   ],
   "source": [
    "# Chequeo existencia de nulos\n",
    "\n",
    "data.isnull().sum()/len(data)*100"
   ]
  },
  {
   "cell_type": "code",
   "execution_count": 14,
   "metadata": {},
   "outputs": [
    {
     "name": "stdout",
     "output_type": "stream",
     "text": [
      "0\n"
     ]
    }
   ],
   "source": [
    "# Chequeo si hay datos duplicados\n",
    "\n",
    "print(data.duplicated().sum())"
   ]
  },
  {
   "cell_type": "code",
   "execution_count": 15,
   "metadata": {},
   "outputs": [
    {
     "name": "stdout",
     "output_type": "stream",
     "text": [
      "     Año Egresos Día-cama disponible Promedio de permanencia\n",
      "0   1980  145430             2271073                    12.4\n",
      "1   1985  145087             2303957                    11.8\n",
      "2   1990  141708             1891797                    10.3\n",
      "3   1991  154166             1931474                     9.8\n",
      "4   1992  150762             1974778                     9.8\n",
      "5   1993  170447             3287427                    15.2\n",
      "6   1994  176082             3191158                    14.8\n",
      "7   1995  185319             3256297                    14.5\n",
      "8   1996  189852             3307239                    14.5\n",
      "9   1997  184755             3266872                    14.7\n",
      "10  1998  181792             3241228               14.757553\n",
      "11  1999  178963             3102081                    14.5\n",
      "12  2000  181678             2991932                    13.9\n",
      "13  2001  181219             2979675                    13.8\n",
      "14  2002  189184             3002709                    13.3\n",
      "15  2003  195573             3076880                   13.01\n",
      "16  2004  196975             3059242                   12.66\n",
      "17  2005  191100             3034272                   12.65\n",
      "18  2006  184912             2833891                   12.16\n",
      "19  2007  191219          2755571.15                    11.6\n",
      "20  2008  186696             2695151                   11.43\n",
      "21  2009  180251             2639855                   11.35\n",
      "22  2010  185158           2625561.8                   11.07\n",
      "23  2011  181917             2638436                   10.73\n",
      "24  2012  180339             2588868                   10.57\n",
      "25  2013  177663             2562731                10.55003\n",
      "26  2014  171434             2559759                    10.8\n",
      "27  2015  168422             2565026               10.947697\n",
      "28  2016  166097             2555175                   11.02\n",
      "29  2017  161461             2549907               10.949734\n",
      "30  2018       …                   …                       …\n",
      "31  2019       …                   …                       …\n"
     ]
    }
   ],
   "source": [
    "print(data)"
   ]
  },
  {
   "cell_type": "code",
   "execution_count": 16,
   "metadata": {},
   "outputs": [],
   "source": [
    "data = data.drop([30, 31])"
   ]
  },
  {
   "cell_type": "code",
   "execution_count": 17,
   "metadata": {},
   "outputs": [
    {
     "name": "stdout",
     "output_type": "stream",
     "text": [
      "     Año Egresos Día-cama disponible Promedio de permanencia\n",
      "0   1980  145430             2271073                    12.4\n",
      "1   1985  145087             2303957                    11.8\n",
      "2   1990  141708             1891797                    10.3\n",
      "3   1991  154166             1931474                     9.8\n",
      "4   1992  150762             1974778                     9.8\n",
      "5   1993  170447             3287427                    15.2\n",
      "6   1994  176082             3191158                    14.8\n",
      "7   1995  185319             3256297                    14.5\n",
      "8   1996  189852             3307239                    14.5\n",
      "9   1997  184755             3266872                    14.7\n",
      "10  1998  181792             3241228               14.757553\n",
      "11  1999  178963             3102081                    14.5\n",
      "12  2000  181678             2991932                    13.9\n",
      "13  2001  181219             2979675                    13.8\n",
      "14  2002  189184             3002709                    13.3\n",
      "15  2003  195573             3076880                   13.01\n",
      "16  2004  196975             3059242                   12.66\n",
      "17  2005  191100             3034272                   12.65\n",
      "18  2006  184912             2833891                   12.16\n",
      "19  2007  191219          2755571.15                    11.6\n",
      "20  2008  186696             2695151                   11.43\n",
      "21  2009  180251             2639855                   11.35\n",
      "22  2010  185158           2625561.8                   11.07\n",
      "23  2011  181917             2638436                   10.73\n",
      "24  2012  180339             2588868                   10.57\n",
      "25  2013  177663             2562731                10.55003\n",
      "26  2014  171434             2559759                    10.8\n",
      "27  2015  168422             2565026               10.947697\n",
      "28  2016  166097             2555175                   11.02\n",
      "29  2017  161461             2549907               10.949734\n"
     ]
    }
   ],
   "source": [
    "print(data)"
   ]
  },
  {
   "cell_type": "code",
   "execution_count": 18,
   "metadata": {},
   "outputs": [
    {
     "name": "stdout",
     "output_type": "stream",
     "text": [
      "     Año  Egresos  Día-cama disponible  Promedio de permanencia\n",
      "0   1980   145430           2271073.00                12.400000\n",
      "1   1985   145087           2303957.00                11.800000\n",
      "2   1990   141708           1891797.00                10.300000\n",
      "3   1991   154166           1931474.00                 9.800000\n",
      "4   1992   150762           1974778.00                 9.800000\n",
      "5   1993   170447           3287427.00                15.200000\n",
      "6   1994   176082           3191158.00                14.800000\n",
      "7   1995   185319           3256297.00                14.500000\n",
      "8   1996   189852           3307239.00                14.500000\n",
      "9   1997   184755           3266872.00                14.700000\n",
      "10  1998   181792           3241228.00                14.757553\n",
      "11  1999   178963           3102081.00                14.500000\n",
      "12  2000   181678           2991932.00                13.900000\n",
      "13  2001   181219           2979675.00                13.800000\n",
      "14  2002   189184           3002709.00                13.300000\n",
      "15  2003   195573           3076880.00                13.010000\n",
      "16  2004   196975           3059242.00                12.660000\n",
      "17  2005   191100           3034272.00                12.650000\n",
      "18  2006   184912           2833891.00                12.160000\n",
      "19  2007   191219           2755571.15                11.600000\n",
      "20  2008   186696           2695151.00                11.430000\n",
      "21  2009   180251           2639855.00                11.350000\n",
      "22  2010   185158           2625561.80                11.070000\n",
      "23  2011   181917           2638436.00                10.730000\n",
      "24  2012   180339           2588868.00                10.570000\n",
      "25  2013   177663           2562731.00                10.550030\n",
      "26  2014   171434           2559759.00                10.800000\n",
      "27  2015   168422           2565026.00                10.947697\n",
      "28  2016   166097           2555175.00                11.020000\n",
      "29  2017   161461           2549907.00                10.949734\n",
      "Año                          int64\n",
      "Egresos                      int64\n",
      "Día-cama disponible        float64\n",
      "Promedio de permanencia    float64\n",
      "dtype: object\n"
     ]
    }
   ],
   "source": [
    "# Convertir columnas específicas a numérico\n",
    "columns_to_convert = ['Año', 'Egresos', 'Día-cama disponible', 'Promedio de permanencia']\n",
    "\n",
    "# Usando pd.to_numeric para convertir columnas a numérico\n",
    "data[columns_to_convert] = data[columns_to_convert].apply(pd.to_numeric, errors='coerce')\n",
    "\n",
    "# Alternativamente, usar astype para convertir columnas a numérico\n",
    "# df[columns_to_convert] = df[columns_to_convert].astype(float)  # Si estás seguro que todos son float\n",
    "\n",
    "# Mostrar el DataFrame convertido\n",
    "print(data)\n",
    "print(data.dtypes)  # Verificar los tipos de datos después de la conversión"
   ]
  },
  {
   "cell_type": "code",
   "execution_count": 19,
   "metadata": {},
   "outputs": [
    {
     "data": {
      "text/html": [
       "<div>\n",
       "<style scoped>\n",
       "    .dataframe tbody tr th:only-of-type {\n",
       "        vertical-align: middle;\n",
       "    }\n",
       "\n",
       "    .dataframe tbody tr th {\n",
       "        vertical-align: top;\n",
       "    }\n",
       "\n",
       "    .dataframe thead th {\n",
       "        text-align: right;\n",
       "    }\n",
       "</style>\n",
       "<table border=\"1\" class=\"dataframe\">\n",
       "  <thead>\n",
       "    <tr style=\"text-align: right;\">\n",
       "      <th></th>\n",
       "      <th>Año</th>\n",
       "      <th>Egresos</th>\n",
       "      <th>Día-cama disponible</th>\n",
       "      <th>Promedio de permanencia</th>\n",
       "    </tr>\n",
       "  </thead>\n",
       "  <tbody>\n",
       "    <tr>\n",
       "      <th>count</th>\n",
       "      <td>30.000000</td>\n",
       "      <td>30.000000</td>\n",
       "      <td>3.000000e+01</td>\n",
       "      <td>30.000000</td>\n",
       "    </tr>\n",
       "    <tr>\n",
       "      <th>mean</th>\n",
       "      <td>2002.100000</td>\n",
       "      <td>175855.366667</td>\n",
       "      <td>2.758001e+06</td>\n",
       "      <td>12.318500</td>\n",
       "    </tr>\n",
       "    <tr>\n",
       "      <th>std</th>\n",
       "      <td>9.582131</td>\n",
       "      <td>15384.438527</td>\n",
       "      <td>4.083020e+05</td>\n",
       "      <td>1.702310</td>\n",
       "    </tr>\n",
       "    <tr>\n",
       "      <th>min</th>\n",
       "      <td>1980.000000</td>\n",
       "      <td>141708.000000</td>\n",
       "      <td>1.891797e+06</td>\n",
       "      <td>9.800000</td>\n",
       "    </tr>\n",
       "    <tr>\n",
       "      <th>25%</th>\n",
       "      <td>1995.250000</td>\n",
       "      <td>168928.250000</td>\n",
       "      <td>2.560502e+06</td>\n",
       "      <td>10.948206</td>\n",
       "    </tr>\n",
       "    <tr>\n",
       "      <th>50%</th>\n",
       "      <td>2002.500000</td>\n",
       "      <td>180779.000000</td>\n",
       "      <td>2.725361e+06</td>\n",
       "      <td>11.980000</td>\n",
       "    </tr>\n",
       "    <tr>\n",
       "      <th>75%</th>\n",
       "      <td>2009.750000</td>\n",
       "      <td>185278.750000</td>\n",
       "      <td>3.072470e+06</td>\n",
       "      <td>13.875000</td>\n",
       "    </tr>\n",
       "    <tr>\n",
       "      <th>max</th>\n",
       "      <td>2017.000000</td>\n",
       "      <td>196975.000000</td>\n",
       "      <td>3.307239e+06</td>\n",
       "      <td>15.200000</td>\n",
       "    </tr>\n",
       "  </tbody>\n",
       "</table>\n",
       "</div>"
      ],
      "text/plain": [
       "               Año        Egresos  Día-cama disponible  \\\n",
       "count    30.000000      30.000000         3.000000e+01   \n",
       "mean   2002.100000  175855.366667         2.758001e+06   \n",
       "std       9.582131   15384.438527         4.083020e+05   \n",
       "min    1980.000000  141708.000000         1.891797e+06   \n",
       "25%    1995.250000  168928.250000         2.560502e+06   \n",
       "50%    2002.500000  180779.000000         2.725361e+06   \n",
       "75%    2009.750000  185278.750000         3.072470e+06   \n",
       "max    2017.000000  196975.000000         3.307239e+06   \n",
       "\n",
       "       Promedio de permanencia  \n",
       "count                30.000000  \n",
       "mean                 12.318500  \n",
       "std                   1.702310  \n",
       "min                   9.800000  \n",
       "25%                  10.948206  \n",
       "50%                  11.980000  \n",
       "75%                  13.875000  \n",
       "max                  15.200000  "
      ]
     },
     "execution_count": 19,
     "metadata": {},
     "output_type": "execute_result"
    }
   ],
   "source": [
    "# Ejecuto un describe sobre la tabla\n",
    "\n",
    "data.describe()"
   ]
  },
  {
   "cell_type": "code",
   "execution_count": 20,
   "metadata": {},
   "outputs": [
    {
     "name": "stdout",
     "output_type": "stream",
     "text": [
      "Año                       -0.365316\n",
      "Egresos                    0.428718\n",
      "Día-cama disponible        0.875575\n",
      "Promedio de permanencia    1.000000\n",
      "Name: Promedio de permanencia, dtype: float64\n"
     ]
    }
   ],
   "source": [
    "# Calculo la correlación de cada variable independiente (x) con la varible dependiente (Y)\n",
    "\n",
    "correlaciones = data.corr()['Promedio de permanencia']\n",
    "print(correlaciones)"
   ]
  },
  {
   "cell_type": "code",
   "execution_count": 21,
   "metadata": {},
   "outputs": [],
   "source": [
    "# Filtro con las columnas que tienen una correlación entre 0.1 y 1 y -0.1 y -1\n",
    "\n",
    "feature_selection = correlaciones[abs(correlaciones) > 0.1].index"
   ]
  },
  {
   "cell_type": "code",
   "execution_count": 22,
   "metadata": {},
   "outputs": [
    {
     "name": "stdout",
     "output_type": "stream",
     "text": [
      "(30, 4)\n",
      "(30, 4)\n"
     ]
    }
   ],
   "source": [
    "# Genero un dataframe solo con las variables seleccionadas\n",
    "\n",
    "data2 = data[feature_selection]\n",
    "\n",
    "print(data.shape)\n",
    "print(data2.shape)"
   ]
  },
  {
   "cell_type": "code",
   "execution_count": 23,
   "metadata": {},
   "outputs": [
    {
     "data": {
      "text/plain": [
       "array(['Año', 'Egresos', 'Día-cama disponible', 'Promedio de permanencia'],\n",
       "      dtype=object)"
      ]
     },
     "execution_count": 23,
     "metadata": {},
     "output_type": "execute_result"
    }
   ],
   "source": [
    "data2.columns.values"
   ]
  },
  {
   "cell_type": "code",
   "execution_count": 24,
   "metadata": {},
   "outputs": [
    {
     "data": {
      "image/png": "[encoded data removed]",
      "text/plain": [
       "<Figure size 1000x1100 with 1 Axes>"
      ]
     },
     "metadata": {},
     "output_type": "display_data"
    }
   ],
   "source": [
    "top_10_features = correlaciones.abs().nlargest(10).index\n",
    "top_10_corr_values = correlaciones[top_10_features]\n",
    "\n",
    "plt.figure(figsize=(10, 11))\n",
    "plt.bar(top_10_features, top_10_corr_values)\n",
    "plt.xlabel('Features')\n",
    "plt.ylabel('Correlaciones con PROMEDIO_PERMANENCIA')\n",
    "plt.title('Top 10 Features con mayor correlación con PROMEDIO_PERMANENCIA')\n",
    "plt.xticks(rotation=90)\n",
    "plt.show()"
   ]
  },
  {
   "cell_type": "code",
   "execution_count": 27,
   "metadata": {},
   "outputs": [
    {
     "name": "stdout",
     "output_type": "stream",
     "text": [
      "Mean Squared Error: 0.14827518987214205\n",
      "R^2 Score: 0.9376604713972134\n"
     ]
    }
   ],
   "source": [
    "# Decision Tree\n",
    "# Importar las librerías necesarias\n",
    "from sklearn.tree import DecisionTreeRegressor\n",
    "from sklearn.model_selection import train_test_split\n",
    "from sklearn.metrics import mean_squared_error, r2_score\n",
    "\n",
    "# Definir la función para evaluar el modelo\n",
    "def evaluate_model(model, X_train, X_test, y_train, y_test):\n",
    "    # Entrenamiento del modelo\n",
    "    model.fit(X_train, y_train)\n",
    "\n",
    "    # Generar predicciones con el modelo ya entrenado usando las variables predictoras de test\n",
    "    y_pred = model.predict(X_test)\n",
    "\n",
    "    # Calcular métricas comparando mi predicción de y de test contra los valores reales\n",
    "    mse = mean_squared_error(y_test, y_pred)\n",
    "    r2 = r2_score(y_test, y_pred)\n",
    "\n",
    "    # Imprimir resultados\n",
    "    print(f'Mean Squared Error: {mse}')\n",
    "    print(f'R^2 Score: {r2}')\n",
    "\n",
    "    \n",
    "    # Devolver modelo y predicciones para poder guardar los objetos\n",
    "    return model, y_pred\n",
    "\n",
    "# Selección de variables independientes (X) y la variable objetivo (y)\n",
    "X = data2[['Año', 'Egresos', 'Día-cama disponible']]\n",
    "y = data2['Promedio de permanencia']\n",
    "\n",
    "# Dividir los datos en conjuntos de entrenamiento y prueba\n",
    "X_train, X_test, y_train, y_test = train_test_split(X, y, test_size=0.2, random_state=42)\n",
    "\n",
    "# Crear el modelo de árbol de decisión\n",
    "dt_model = DecisionTreeRegressor(random_state=42)\n",
    "\n",
    "# Evaluar el modelo\n",
    "dt_model, dt_pred = evaluate_model(dt_model, X_train, X_test, y_train, y_test)"
   ]
  }
 ],
 "metadata": {
  "kernelspec": {
   "display_name": "base",
   "language": "python",
   "name": "python3"
  },
  "language_info": {
   "codemirror_mode": {
    "name": "ipython",
    "version": 3
   },
   "file_extension": ".py",
   "mimetype": "text/x-python",
   "name": "python",
   "nbconvert_exporter": "python",
   "pygments_lexer": "ipython3",
   "version": "3.11.7"
  }
 },
 "nbformat": 4,
 "nbformat_minor": 2
}
