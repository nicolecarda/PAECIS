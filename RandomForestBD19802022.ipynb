{
 "cells": [
  {
   "cell_type": "code",
   "execution_count": 1,
   "metadata": {},
   "outputs": [
    {
     "name": "stdout",
     "output_type": "stream",
     "text": [
      "Collecting scikit-learn\n",
      "  Downloading scikit_learn-1.5.1-cp312-cp312-win_amd64.whl.metadata (12 kB)\n",
      "Collecting numpy>=1.19.5 (from scikit-learn)\n",
      "  Using cached numpy-2.0.1-cp312-cp312-win_amd64.whl.metadata (60 kB)\n",
      "Collecting scipy>=1.6.0 (from scikit-learn)\n",
      "  Downloading scipy-1.14.0-cp312-cp312-win_amd64.whl.metadata (60 kB)\n",
      "     ---------------------------------------- 0.0/60.8 kB ? eta -:--:--\n",
      "     ---------------------------------------- 60.8/60.8 kB 3.4 MB/s eta 0:00:00\n",
      "Collecting joblib>=1.2.0 (from scikit-learn)\n",
      "  Downloading joblib-1.4.2-py3-none-any.whl.metadata (5.4 kB)\n",
      "Collecting threadpoolctl>=3.1.0 (from scikit-learn)\n",
      "  Downloading threadpoolctl-3.5.0-py3-none-any.whl.metadata (13 kB)\n",
      "Downloading scikit_learn-1.5.1-cp312-cp312-win_amd64.whl (10.9 MB)\n",
      "   ---------------------------------------- 0.0/10.9 MB ? eta -:--:--\n",
      "   - -------------------------------------- 0.5/10.9 MB 10.5 MB/s eta 0:00:01\n",
      "   ------- -------------------------------- 2.1/10.9 MB 21.9 MB/s eta 0:00:01\n",
      "   --------- ------------------------------ 2.6/10.9 MB 18.2 MB/s eta 0:00:01\n",
      "   -------------- ------------------------- 3.9/10.9 MB 20.6 MB/s eta 0:00:01\n",
      "   ------------------- -------------------- 5.2/10.9 MB 25.8 MB/s eta 0:00:01\n",
      "   ------------------- -------------------- 5.2/10.9 MB 25.8 MB/s eta 0:00:01\n",
      "   -------------------- ------------------- 5.7/10.9 MB 17.4 MB/s eta 0:00:01\n",
      "   ------------------------- -------------- 6.9/10.9 MB 19.3 MB/s eta 0:00:01\n",
      "   ------------------------------ --------- 8.3/10.9 MB 19.7 MB/s eta 0:00:01\n",
      "   ---------------------------------------  10.9/10.9 MB 25.2 MB/s eta 0:00:01\n",
      "   ---------------------------------------- 10.9/10.9 MB 23.4 MB/s eta 0:00:00\n",
      "Downloading joblib-1.4.2-py3-none-any.whl (301 kB)\n",
      "   ---------------------------------------- 0.0/301.8 kB ? eta -:--:--\n",
      "   ---------------------------------------- 301.8/301.8 kB 9.4 MB/s eta 0:00:00\n",
      "Using cached numpy-2.0.1-cp312-cp312-win_amd64.whl (16.3 MB)\n",
      "Downloading scipy-1.14.0-cp312-cp312-win_amd64.whl (44.5 MB)\n",
      "   ---------------------------------------- 0.0/44.5 MB ? eta -:--:--\n",
      "   - -------------------------------------- 1.5/44.5 MB 46.6 MB/s eta 0:00:01\n",
      "   -- ------------------------------------- 2.9/44.5 MB 37.5 MB/s eta 0:00:02\n",
      "   --- ------------------------------------ 4.3/44.5 MB 34.2 MB/s eta 0:00:02\n",
      "   ----- ---------------------------------- 6.2/44.5 MB 35.8 MB/s eta 0:00:02\n",
      "   ----- ---------------------------------- 6.7/44.5 MB 30.3 MB/s eta 0:00:02\n",
      "   ------- -------------------------------- 8.2/44.5 MB 31.0 MB/s eta 0:00:02\n",
      "   -------- ------------------------------- 9.8/44.5 MB 31.3 MB/s eta 0:00:02\n",
      "   ---------- ----------------------------- 11.4/44.5 MB 31.1 MB/s eta 0:00:02\n",
      "   ----------- ---------------------------- 13.0/44.5 MB 31.2 MB/s eta 0:00:02\n",
      "   -------------- ------------------------- 15.8/44.5 MB 34.4 MB/s eta 0:00:01\n",
      "   ---------------- ----------------------- 18.2/44.5 MB 43.7 MB/s eta 0:00:01\n",
      "   ------------------ --------------------- 20.1/44.5 MB 46.7 MB/s eta 0:00:01\n",
      "   ------------------- -------------------- 21.8/44.5 MB 46.7 MB/s eta 0:00:01\n",
      "   -------------------- ------------------- 23.2/44.5 MB 46.7 MB/s eta 0:00:01\n",
      "   ---------------------- ----------------- 25.4/44.5 MB 43.5 MB/s eta 0:00:01\n",
      "   ------------------------ --------------- 27.3/44.5 MB 40.9 MB/s eta 0:00:01\n",
      "   -------------------------- ------------- 29.3/44.5 MB 40.9 MB/s eta 0:00:01\n",
      "   --------------------------- ------------ 30.4/44.5 MB 40.9 MB/s eta 0:00:01\n",
      "   ----------------------------- ---------- 32.4/44.5 MB 38.6 MB/s eta 0:00:01\n",
      "   ------------------------------ --------- 34.0/44.5 MB 36.4 MB/s eta 0:00:01\n",
      "   -------------------------------- ------- 36.0/44.5 MB 38.6 MB/s eta 0:00:01\n",
      "   ---------------------------------- ----- 38.0/44.5 MB 38.6 MB/s eta 0:00:01\n",
      "   ----------------------------------- ---- 40.0/44.5 MB 38.5 MB/s eta 0:00:01\n",
      "   ------------------------------------- -- 41.8/44.5 MB 40.9 MB/s eta 0:00:01\n",
      "   ---------------------------------------  43.7/44.5 MB 40.9 MB/s eta 0:00:01\n",
      "   ---------------------------------------  44.5/44.5 MB 40.9 MB/s eta 0:00:01\n",
      "   ---------------------------------------  44.5/44.5 MB 40.9 MB/s eta 0:00:01\n",
      "   ---------------------------------------- 44.5/44.5 MB 29.7 MB/s eta 0:00:00\n",
      "Downloading threadpoolctl-3.5.0-py3-none-any.whl (18 kB)\n",
      "Installing collected packages: threadpoolctl, numpy, joblib, scipy, scikit-learn\n",
      "Successfully installed joblib-1.4.2 numpy-2.0.1 scikit-learn-1.5.1 scipy-1.14.0 threadpoolctl-3.5.0\n",
      "Note: you may need to restart the kernel to use updated packages.\n"
     ]
    },
    {
     "name": "stderr",
     "output_type": "stream",
     "text": [
      "\n",
      "[notice] A new release of pip is available: 24.1 -> 24.1.2\n",
      "[notice] To update, run: python.exe -m pip install --upgrade pip\n"
     ]
    }
   ],
   "source": [
    "%pip install scikit-learn"
   ]
  },
  {
   "cell_type": "code",
   "execution_count": 5,
   "metadata": {},
   "outputs": [],
   "source": [
    "# Importación de librerias\n",
    "import numpy as np\n",
    "import pandas as pd\n",
    "import matplotlib.pyplot as plt\n",
    "import seaborn as sns\n",
    "from sklearn import datasets\n",
    "from sklearn import metrics\n",
    "%matplotlib inline"
   ]
  },
  {
   "cell_type": "code",
   "execution_count": 7,
   "metadata": {},
   "outputs": [],
   "source": [
    "# guardo la ubicacion del excel en una variable y luego en un dataframe\n",
    "\n",
    "ubicacion = f'archivos/S_MVH_AX02.xlsx'\n",
    "data = pd.read_excel(ubicacion, sheet_name='S_MVH_AX02', header =1)"
   ]
  },
  {
   "cell_type": "code",
   "execution_count": 8,
   "metadata": {},
   "outputs": [
    {
     "data": {
      "text/plain": [
       "array(['Año', 'Egresos', 'Día-cama disponible',\n",
       "       'Promedio día-cama disponible', 'Paciente-día',\n",
       "       'Promedio paciente-día', 'Promedio de permanencia',\n",
       "       'Porcentaje ocupacional'], dtype=object)"
      ]
     },
     "execution_count": 8,
     "metadata": {},
     "output_type": "execute_result"
    }
   ],
   "source": [
    "# traigo las columnas del dataframe\n",
    "data.columns.values"
   ]
  },
  {
   "cell_type": "code",
   "execution_count": 9,
   "metadata": {},
   "outputs": [],
   "source": [
    "# importo más librerias\n",
    "from sklearn.model_selection import train_test_split, GridSearchCV\n",
    "from sklearn.ensemble import RandomForestRegressor\n",
    "from sklearn.metrics import mean_squared_error, r2_score\n",
    "from sklearn.preprocessing import OneHotEncoder, StandardScaler\n",
    "from sklearn.compose import ColumnTransformer\n",
    "from sklearn.pipeline import Pipeline"
   ]
  },
  {
   "cell_type": "code",
   "execution_count": 10,
   "metadata": {},
   "outputs": [],
   "source": [
    "# Elimino ciertas columnas\n",
    "\n",
    "data = data.drop(columns=[ 'Paciente-día','Promedio día-cama disponible', 'Promedio paciente-día', 'Porcentaje ocupacional'])"
   ]
  },
  {
   "cell_type": "code",
   "execution_count": 11,
   "metadata": {},
   "outputs": [
    {
     "data": {
      "text/plain": [
       "array(['Año', 'Egresos', 'Día-cama disponible', 'Promedio de permanencia'],\n",
       "      dtype=object)"
      ]
     },
     "execution_count": 11,
     "metadata": {},
     "output_type": "execute_result"
    }
   ],
   "source": [
    "# Traigo columnas para comprobar que se borraron correctamente\n",
    "data.columns.values"
   ]
  },
  {
   "cell_type": "code",
   "execution_count": 12,
   "metadata": {},
   "outputs": [
    {
     "data": {
      "text/plain": [
       "Año                         0.000000\n",
       "Egresos                    17.948718\n",
       "Día-cama disponible        17.948718\n",
       "Promedio de permanencia    17.948718\n",
       "dtype: float64"
      ]
     },
     "execution_count": 12,
     "metadata": {},
     "output_type": "execute_result"
    }
   ],
   "source": [
    "# Chequeo existencia de nulos\n",
    "\n",
    "data.isnull().sum()/len(data)*100"
   ]
  },
  {
   "cell_type": "code",
   "execution_count": 13,
   "metadata": {},
   "outputs": [],
   "source": [
    "# Eliminar filas con valores nulos\n",
    "\n",
    "data = data.dropna()"
   ]
  },
  {
   "cell_type": "code",
   "execution_count": 14,
   "metadata": {},
   "outputs": [
    {
     "data": {
      "text/plain": [
       "Año                        0.0\n",
       "Egresos                    0.0\n",
       "Día-cama disponible        0.0\n",
       "Promedio de permanencia    0.0\n",
       "dtype: float64"
      ]
     },
     "execution_count": 14,
     "metadata": {},
     "output_type": "execute_result"
    }
   ],
   "source": [
    "# Chequeo existencia de nulos\n",
    "\n",
    "data.isnull().sum()/len(data)*100"
   ]
  },
  {
   "cell_type": "code",
   "execution_count": 15,
   "metadata": {},
   "outputs": [
    {
     "name": "stdout",
     "output_type": "stream",
     "text": [
      "0\n"
     ]
    }
   ],
   "source": [
    "# Chequeo si hay datos duplicados\n",
    "\n",
    "print(data.duplicated().sum())"
   ]
  },
  {
   "cell_type": "code",
   "execution_count": 16,
   "metadata": {},
   "outputs": [
    {
     "name": "stdout",
     "output_type": "stream",
     "text": [
      "     Año Egresos Día-cama disponible Promedio de permanencia\n",
      "0   1980  145430             2271073                    12.4\n",
      "1   1985  145087             2303957                    11.8\n",
      "2   1990  141708             1891797                    10.3\n",
      "3   1991  154166             1931474                     9.8\n",
      "4   1992  150762             1974778                     9.8\n",
      "5   1993  170447             3287427                    15.2\n",
      "6   1994  176082             3191158                    14.8\n",
      "7   1995  185319             3256297                    14.5\n",
      "8   1996  189852             3307239                    14.5\n",
      "9   1997  184755             3266872                    14.7\n",
      "10  1998  181792             3241228               14.757553\n",
      "11  1999  178963             3102081                    14.5\n",
      "12  2000  181678             2991932                    13.9\n",
      "13  2001  181219             2979675                    13.8\n",
      "14  2002  189184             3002709                    13.3\n",
      "15  2003  195573             3076880                   13.01\n",
      "16  2004  196975             3059242                   12.66\n",
      "17  2005  191100             3034272                   12.65\n",
      "18  2006  184912             2833891                   12.16\n",
      "19  2007  191219          2755571.15                    11.6\n",
      "20  2008  186696             2695151                   11.43\n",
      "21  2009  180251             2639855                   11.35\n",
      "22  2010  185158           2625561.8                   11.07\n",
      "23  2011  181917             2638436                   10.73\n",
      "24  2012  180339             2588868                   10.57\n",
      "25  2013  177663             2562731                10.55003\n",
      "26  2014  171434             2559759                    10.8\n",
      "27  2015  168422             2565026               10.947697\n",
      "28  2016  166097             2555175                   11.02\n",
      "29  2017  161461             2549907               10.949734\n",
      "30  2018       …                   …                       …\n",
      "31  2019       …                   …                       …\n"
     ]
    }
   ],
   "source": [
    "print(data)"
   ]
  },
  {
   "cell_type": "code",
   "execution_count": 17,
   "metadata": {},
   "outputs": [],
   "source": [
    "data = data.drop([30, 31])"
   ]
  },
  {
   "cell_type": "code",
   "execution_count": 18,
   "metadata": {},
   "outputs": [
    {
     "name": "stdout",
     "output_type": "stream",
     "text": [
      "     Año Egresos Día-cama disponible Promedio de permanencia\n",
      "0   1980  145430             2271073                    12.4\n",
      "1   1985  145087             2303957                    11.8\n",
      "2   1990  141708             1891797                    10.3\n",
      "3   1991  154166             1931474                     9.8\n",
      "4   1992  150762             1974778                     9.8\n",
      "5   1993  170447             3287427                    15.2\n",
      "6   1994  176082             3191158                    14.8\n",
      "7   1995  185319             3256297                    14.5\n",
      "8   1996  189852             3307239                    14.5\n",
      "9   1997  184755             3266872                    14.7\n",
      "10  1998  181792             3241228               14.757553\n",
      "11  1999  178963             3102081                    14.5\n",
      "12  2000  181678             2991932                    13.9\n",
      "13  2001  181219             2979675                    13.8\n",
      "14  2002  189184             3002709                    13.3\n",
      "15  2003  195573             3076880                   13.01\n",
      "16  2004  196975             3059242                   12.66\n",
      "17  2005  191100             3034272                   12.65\n",
      "18  2006  184912             2833891                   12.16\n",
      "19  2007  191219          2755571.15                    11.6\n",
      "20  2008  186696             2695151                   11.43\n",
      "21  2009  180251             2639855                   11.35\n",
      "22  2010  185158           2625561.8                   11.07\n",
      "23  2011  181917             2638436                   10.73\n",
      "24  2012  180339             2588868                   10.57\n",
      "25  2013  177663             2562731                10.55003\n",
      "26  2014  171434             2559759                    10.8\n",
      "27  2015  168422             2565026               10.947697\n",
      "28  2016  166097             2555175                   11.02\n",
      "29  2017  161461             2549907               10.949734\n"
     ]
    }
   ],
   "source": [
    "print(data)"
   ]
  },
  {
   "cell_type": "code",
   "execution_count": 19,
   "metadata": {},
   "outputs": [
    {
     "name": "stdout",
     "output_type": "stream",
     "text": [
      "     Año  Egresos  Día-cama disponible  Promedio de permanencia\n",
      "0   1980   145430           2271073.00                12.400000\n",
      "1   1985   145087           2303957.00                11.800000\n",
      "2   1990   141708           1891797.00                10.300000\n",
      "3   1991   154166           1931474.00                 9.800000\n",
      "4   1992   150762           1974778.00                 9.800000\n",
      "5   1993   170447           3287427.00                15.200000\n",
      "6   1994   176082           3191158.00                14.800000\n",
      "7   1995   185319           3256297.00                14.500000\n",
      "8   1996   189852           3307239.00                14.500000\n",
      "9   1997   184755           3266872.00                14.700000\n",
      "10  1998   181792           3241228.00                14.757553\n",
      "11  1999   178963           3102081.00                14.500000\n",
      "12  2000   181678           2991932.00                13.900000\n",
      "13  2001   181219           2979675.00                13.800000\n",
      "14  2002   189184           3002709.00                13.300000\n",
      "15  2003   195573           3076880.00                13.010000\n",
      "16  2004   196975           3059242.00                12.660000\n",
      "17  2005   191100           3034272.00                12.650000\n",
      "18  2006   184912           2833891.00                12.160000\n",
      "19  2007   191219           2755571.15                11.600000\n",
      "20  2008   186696           2695151.00                11.430000\n",
      "21  2009   180251           2639855.00                11.350000\n",
      "22  2010   185158           2625561.80                11.070000\n",
      "23  2011   181917           2638436.00                10.730000\n",
      "24  2012   180339           2588868.00                10.570000\n",
      "25  2013   177663           2562731.00                10.550030\n",
      "26  2014   171434           2559759.00                10.800000\n",
      "27  2015   168422           2565026.00                10.947697\n",
      "28  2016   166097           2555175.00                11.020000\n",
      "29  2017   161461           2549907.00                10.949734\n",
      "Año                          int64\n",
      "Egresos                      int64\n",
      "Día-cama disponible        float64\n",
      "Promedio de permanencia    float64\n",
      "dtype: object\n"
     ]
    }
   ],
   "source": [
    "# Convertir columnas específicas a numérico\n",
    "columns_to_convert = ['Año', 'Egresos', 'Día-cama disponible', 'Promedio de permanencia']\n",
    "\n",
    "# Usando pd.to_numeric para convertir columnas a numérico\n",
    "data[columns_to_convert] = data[columns_to_convert].apply(pd.to_numeric, errors='coerce')\n",
    "\n",
    "# Alternativamente, usar astype para convertir columnas a numérico\n",
    "# df[columns_to_convert] = df[columns_to_convert].astype(float)  # Si estás seguro que todos son float\n",
    "\n",
    "# Mostrar el DataFrame convertido\n",
    "print(data)\n",
    "print(data.dtypes)  # Verificar los tipos de datos después de la conversión"
   ]
  },
  {
   "cell_type": "code",
   "execution_count": 20,
   "metadata": {},
   "outputs": [
    {
     "data": {
      "text/html": [
       "<div>\n",
       "<style scoped>\n",
       "    .dataframe tbody tr th:only-of-type {\n",
       "        vertical-align: middle;\n",
       "    }\n",
       "\n",
       "    .dataframe tbody tr th {\n",
       "        vertical-align: top;\n",
       "    }\n",
       "\n",
       "    .dataframe thead th {\n",
       "        text-align: right;\n",
       "    }\n",
       "</style>\n",
       "<table border=\"1\" class=\"dataframe\">\n",
       "  <thead>\n",
       "    <tr style=\"text-align: right;\">\n",
       "      <th></th>\n",
       "      <th>Año</th>\n",
       "      <th>Egresos</th>\n",
       "      <th>Día-cama disponible</th>\n",
       "      <th>Promedio de permanencia</th>\n",
       "    </tr>\n",
       "  </thead>\n",
       "  <tbody>\n",
       "    <tr>\n",
       "      <th>count</th>\n",
       "      <td>30.000000</td>\n",
       "      <td>30.000000</td>\n",
       "      <td>3.000000e+01</td>\n",
       "      <td>30.000000</td>\n",
       "    </tr>\n",
       "    <tr>\n",
       "      <th>mean</th>\n",
       "      <td>2002.100000</td>\n",
       "      <td>175855.366667</td>\n",
       "      <td>2.758001e+06</td>\n",
       "      <td>12.318500</td>\n",
       "    </tr>\n",
       "    <tr>\n",
       "      <th>std</th>\n",
       "      <td>9.582131</td>\n",
       "      <td>15384.438527</td>\n",
       "      <td>4.083020e+05</td>\n",
       "      <td>1.702310</td>\n",
       "    </tr>\n",
       "    <tr>\n",
       "      <th>min</th>\n",
       "      <td>1980.000000</td>\n",
       "      <td>141708.000000</td>\n",
       "      <td>1.891797e+06</td>\n",
       "      <td>9.800000</td>\n",
       "    </tr>\n",
       "    <tr>\n",
       "      <th>25%</th>\n",
       "      <td>1995.250000</td>\n",
       "      <td>168928.250000</td>\n",
       "      <td>2.560502e+06</td>\n",
       "      <td>10.948206</td>\n",
       "    </tr>\n",
       "    <tr>\n",
       "      <th>50%</th>\n",
       "      <td>2002.500000</td>\n",
       "      <td>180779.000000</td>\n",
       "      <td>2.725361e+06</td>\n",
       "      <td>11.980000</td>\n",
       "    </tr>\n",
       "    <tr>\n",
       "      <th>75%</th>\n",
       "      <td>2009.750000</td>\n",
       "      <td>185278.750000</td>\n",
       "      <td>3.072470e+06</td>\n",
       "      <td>13.875000</td>\n",
       "    </tr>\n",
       "    <tr>\n",
       "      <th>max</th>\n",
       "      <td>2017.000000</td>\n",
       "      <td>196975.000000</td>\n",
       "      <td>3.307239e+06</td>\n",
       "      <td>15.200000</td>\n",
       "    </tr>\n",
       "  </tbody>\n",
       "</table>\n",
       "</div>"
      ],
      "text/plain": [
       "               Año        Egresos  Día-cama disponible  \\\n",
       "count    30.000000      30.000000         3.000000e+01   \n",
       "mean   2002.100000  175855.366667         2.758001e+06   \n",
       "std       9.582131   15384.438527         4.083020e+05   \n",
       "min    1980.000000  141708.000000         1.891797e+06   \n",
       "25%    1995.250000  168928.250000         2.560502e+06   \n",
       "50%    2002.500000  180779.000000         2.725361e+06   \n",
       "75%    2009.750000  185278.750000         3.072470e+06   \n",
       "max    2017.000000  196975.000000         3.307239e+06   \n",
       "\n",
       "       Promedio de permanencia  \n",
       "count                30.000000  \n",
       "mean                 12.318500  \n",
       "std                   1.702310  \n",
       "min                   9.800000  \n",
       "25%                  10.948206  \n",
       "50%                  11.980000  \n",
       "75%                  13.875000  \n",
       "max                  15.200000  "
      ]
     },
     "execution_count": 20,
     "metadata": {},
     "output_type": "execute_result"
    }
   ],
   "source": [
    "# Ejecuto un describe sobre la tabla\n",
    "\n",
    "data.describe()"
   ]
  },
  {
   "cell_type": "code",
   "execution_count": 21,
   "metadata": {},
   "outputs": [
    {
     "name": "stdout",
     "output_type": "stream",
     "text": [
      "Año                       -0.365316\n",
      "Egresos                    0.428718\n",
      "Día-cama disponible        0.875575\n",
      "Promedio de permanencia    1.000000\n",
      "Name: Promedio de permanencia, dtype: float64\n"
     ]
    }
   ],
   "source": [
    "# Calculo la correlación de cada variable independiente (x) con la varible dependiente (Y)\n",
    "\n",
    "correlaciones = data.corr()['Promedio de permanencia']\n",
    "print(correlaciones)"
   ]
  },
  {
   "cell_type": "code",
   "execution_count": 22,
   "metadata": {},
   "outputs": [],
   "source": [
    "# Filtro con las columnas que tienen una correlación entre 0.1 y 1 y -0.1 y -1\n",
    "\n",
    "feature_selection = correlaciones[abs(correlaciones) > 0.1].index"
   ]
  },
  {
   "cell_type": "code",
   "execution_count": 23,
   "metadata": {},
   "outputs": [
    {
     "name": "stdout",
     "output_type": "stream",
     "text": [
      "(30, 4)\n",
      "(30, 4)\n"
     ]
    }
   ],
   "source": [
    "# Genero un dataframe solo con las variables seleccionadas\n",
    "\n",
    "data2 = data[feature_selection]\n",
    "\n",
    "print(data.shape)\n",
    "print(data2.shape)"
   ]
  },
  {
   "cell_type": "code",
   "execution_count": 24,
   "metadata": {},
   "outputs": [
    {
     "data": {
      "text/plain": [
       "array(['Año', 'Egresos', 'Día-cama disponible', 'Promedio de permanencia'],\n",
       "      dtype=object)"
      ]
     },
     "execution_count": 24,
     "metadata": {},
     "output_type": "execute_result"
    }
   ],
   "source": [
    "data2.columns.values"
   ]
  },
  {
   "cell_type": "code",
   "execution_count": 25,
   "metadata": {},
   "outputs": [
    {
     "data": {
      "image/png": "[encoded data removed]",
      "text/plain": [
       "<Figure size 1000x1100 with 1 Axes>"
      ]
     },
     "metadata": {},
     "output_type": "display_data"
    }
   ],
   "source": [
    "top_10_features = correlaciones.abs().nlargest(10).index\n",
    "top_10_corr_values = correlaciones[top_10_features]\n",
    "\n",
    "plt.figure(figsize=(10, 11))\n",
    "plt.bar(top_10_features, top_10_corr_values)\n",
    "plt.xlabel('Features')\n",
    "plt.ylabel('Correlaciones con PROMEDIO_PERMANENCIA')\n",
    "plt.title('Top 10 Features con mayor correlación con PROMEDIO_PERMANENCIA')\n",
    "plt.xticks(rotation=90)\n",
    "plt.show()"
   ]
  },
  {
   "cell_type": "code",
   "execution_count": 26,
   "metadata": {},
   "outputs": [
    {
     "data": {
      "text/html": [
       "<div>\n",
       "<style scoped>\n",
       "    .dataframe tbody tr th:only-of-type {\n",
       "        vertical-align: middle;\n",
       "    }\n",
       "\n",
       "    .dataframe tbody tr th {\n",
       "        vertical-align: top;\n",
       "    }\n",
       "\n",
       "    .dataframe thead th {\n",
       "        text-align: right;\n",
       "    }\n",
       "</style>\n",
       "<table border=\"1\" class=\"dataframe\">\n",
       "  <thead>\n",
       "    <tr style=\"text-align: right;\">\n",
       "      <th></th>\n",
       "      <th>Año</th>\n",
       "      <th>Egresos</th>\n",
       "      <th>Día-cama disponible</th>\n",
       "      <th>Promedio de permanencia</th>\n",
       "    </tr>\n",
       "  </thead>\n",
       "  <tbody>\n",
       "    <tr>\n",
       "      <th>0</th>\n",
       "      <td>-2.345804</td>\n",
       "      <td>-2.011480</td>\n",
       "      <td>-1.212955</td>\n",
       "      <td>0.048694</td>\n",
       "    </tr>\n",
       "    <tr>\n",
       "      <th>1</th>\n",
       "      <td>-1.815079</td>\n",
       "      <td>-2.034157</td>\n",
       "      <td>-1.131040</td>\n",
       "      <td>-0.309793</td>\n",
       "    </tr>\n",
       "    <tr>\n",
       "      <th>2</th>\n",
       "      <td>-1.284354</td>\n",
       "      <td>-2.257549</td>\n",
       "      <td>-2.157746</td>\n",
       "      <td>-1.206012</td>\n",
       "    </tr>\n",
       "    <tr>\n",
       "      <th>3</th>\n",
       "      <td>-1.178209</td>\n",
       "      <td>-1.433926</td>\n",
       "      <td>-2.058909</td>\n",
       "      <td>-1.504752</td>\n",
       "    </tr>\n",
       "    <tr>\n",
       "      <th>4</th>\n",
       "      <td>-1.072064</td>\n",
       "      <td>-1.658971</td>\n",
       "      <td>-1.951037</td>\n",
       "      <td>-1.504752</td>\n",
       "    </tr>\n",
       "    <tr>\n",
       "      <th>5</th>\n",
       "      <td>-0.965919</td>\n",
       "      <td>-0.357558</td>\n",
       "      <td>1.318820</td>\n",
       "      <td>1.721637</td>\n",
       "    </tr>\n",
       "    <tr>\n",
       "      <th>6</th>\n",
       "      <td>-0.859774</td>\n",
       "      <td>0.014983</td>\n",
       "      <td>1.079011</td>\n",
       "      <td>1.482645</td>\n",
       "    </tr>\n",
       "    <tr>\n",
       "      <th>7</th>\n",
       "      <td>-0.753629</td>\n",
       "      <td>0.625659</td>\n",
       "      <td>1.241274</td>\n",
       "      <td>1.303401</td>\n",
       "    </tr>\n",
       "    <tr>\n",
       "      <th>8</th>\n",
       "      <td>-0.647484</td>\n",
       "      <td>0.925345</td>\n",
       "      <td>1.368173</td>\n",
       "      <td>1.303401</td>\n",
       "    </tr>\n",
       "    <tr>\n",
       "      <th>9</th>\n",
       "      <td>-0.541339</td>\n",
       "      <td>0.588372</td>\n",
       "      <td>1.267617</td>\n",
       "      <td>1.422897</td>\n",
       "    </tr>\n",
       "    <tr>\n",
       "      <th>10</th>\n",
       "      <td>-0.435194</td>\n",
       "      <td>0.392482</td>\n",
       "      <td>1.203737</td>\n",
       "      <td>1.457283</td>\n",
       "    </tr>\n",
       "    <tr>\n",
       "      <th>11</th>\n",
       "      <td>-0.329049</td>\n",
       "      <td>0.205452</td>\n",
       "      <td>0.857117</td>\n",
       "      <td>1.303401</td>\n",
       "    </tr>\n",
       "    <tr>\n",
       "      <th>12</th>\n",
       "      <td>-0.222904</td>\n",
       "      <td>0.384946</td>\n",
       "      <td>0.582731</td>\n",
       "      <td>0.944913</td>\n",
       "    </tr>\n",
       "    <tr>\n",
       "      <th>13</th>\n",
       "      <td>-0.116759</td>\n",
       "      <td>0.354600</td>\n",
       "      <td>0.552199</td>\n",
       "      <td>0.885165</td>\n",
       "    </tr>\n",
       "    <tr>\n",
       "      <th>14</th>\n",
       "      <td>-0.010614</td>\n",
       "      <td>0.881182</td>\n",
       "      <td>0.609577</td>\n",
       "      <td>0.586426</td>\n",
       "    </tr>\n",
       "    <tr>\n",
       "      <th>15</th>\n",
       "      <td>0.095530</td>\n",
       "      <td>1.303571</td>\n",
       "      <td>0.794340</td>\n",
       "      <td>0.413157</td>\n",
       "    </tr>\n",
       "    <tr>\n",
       "      <th>16</th>\n",
       "      <td>0.201675</td>\n",
       "      <td>1.396260</td>\n",
       "      <td>0.750403</td>\n",
       "      <td>0.204039</td>\n",
       "    </tr>\n",
       "    <tr>\n",
       "      <th>17</th>\n",
       "      <td>0.307820</td>\n",
       "      <td>1.007852</td>\n",
       "      <td>0.688202</td>\n",
       "      <td>0.198064</td>\n",
       "    </tr>\n",
       "    <tr>\n",
       "      <th>18</th>\n",
       "      <td>0.413965</td>\n",
       "      <td>0.598752</td>\n",
       "      <td>0.189045</td>\n",
       "      <td>-0.094701</td>\n",
       "    </tr>\n",
       "    <tr>\n",
       "      <th>19</th>\n",
       "      <td>0.520110</td>\n",
       "      <td>1.015720</td>\n",
       "      <td>-0.006052</td>\n",
       "      <td>-0.429289</td>\n",
       "    </tr>\n",
       "    <tr>\n",
       "      <th>20</th>\n",
       "      <td>0.626255</td>\n",
       "      <td>0.716695</td>\n",
       "      <td>-0.156561</td>\n",
       "      <td>-0.530861</td>\n",
       "    </tr>\n",
       "    <tr>\n",
       "      <th>21</th>\n",
       "      <td>0.732400</td>\n",
       "      <td>0.290604</td>\n",
       "      <td>-0.294305</td>\n",
       "      <td>-0.578659</td>\n",
       "    </tr>\n",
       "    <tr>\n",
       "      <th>22</th>\n",
       "      <td>0.838545</td>\n",
       "      <td>0.615015</td>\n",
       "      <td>-0.329910</td>\n",
       "      <td>-0.745953</td>\n",
       "    </tr>\n",
       "    <tr>\n",
       "      <th>23</th>\n",
       "      <td>0.944690</td>\n",
       "      <td>0.400746</td>\n",
       "      <td>-0.297840</td>\n",
       "      <td>-0.949096</td>\n",
       "    </tr>\n",
       "    <tr>\n",
       "      <th>24</th>\n",
       "      <td>1.050835</td>\n",
       "      <td>0.296422</td>\n",
       "      <td>-0.421316</td>\n",
       "      <td>-1.044693</td>\n",
       "    </tr>\n",
       "    <tr>\n",
       "      <th>25</th>\n",
       "      <td>1.156980</td>\n",
       "      <td>0.119506</td>\n",
       "      <td>-0.486424</td>\n",
       "      <td>-1.056625</td>\n",
       "    </tr>\n",
       "    <tr>\n",
       "      <th>26</th>\n",
       "      <td>1.263125</td>\n",
       "      <td>-0.292305</td>\n",
       "      <td>-0.493828</td>\n",
       "      <td>-0.907273</td>\n",
       "    </tr>\n",
       "    <tr>\n",
       "      <th>27</th>\n",
       "      <td>1.369270</td>\n",
       "      <td>-0.491434</td>\n",
       "      <td>-0.480707</td>\n",
       "      <td>-0.819027</td>\n",
       "    </tr>\n",
       "    <tr>\n",
       "      <th>28</th>\n",
       "      <td>1.475415</td>\n",
       "      <td>-0.645145</td>\n",
       "      <td>-0.505246</td>\n",
       "      <td>-0.775827</td>\n",
       "    </tr>\n",
       "    <tr>\n",
       "      <th>29</th>\n",
       "      <td>1.581560</td>\n",
       "      <td>-0.951640</td>\n",
       "      <td>-0.518369</td>\n",
       "      <td>-0.817810</td>\n",
       "    </tr>\n",
       "  </tbody>\n",
       "</table>\n",
       "</div>"
      ],
      "text/plain": [
       "         Año   Egresos  Día-cama disponible  Promedio de permanencia\n",
       "0  -2.345804 -2.011480            -1.212955                 0.048694\n",
       "1  -1.815079 -2.034157            -1.131040                -0.309793\n",
       "2  -1.284354 -2.257549            -2.157746                -1.206012\n",
       "3  -1.178209 -1.433926            -2.058909                -1.504752\n",
       "4  -1.072064 -1.658971            -1.951037                -1.504752\n",
       "5  -0.965919 -0.357558             1.318820                 1.721637\n",
       "6  -0.859774  0.014983             1.079011                 1.482645\n",
       "7  -0.753629  0.625659             1.241274                 1.303401\n",
       "8  -0.647484  0.925345             1.368173                 1.303401\n",
       "9  -0.541339  0.588372             1.267617                 1.422897\n",
       "10 -0.435194  0.392482             1.203737                 1.457283\n",
       "11 -0.329049  0.205452             0.857117                 1.303401\n",
       "12 -0.222904  0.384946             0.582731                 0.944913\n",
       "13 -0.116759  0.354600             0.552199                 0.885165\n",
       "14 -0.010614  0.881182             0.609577                 0.586426\n",
       "15  0.095530  1.303571             0.794340                 0.413157\n",
       "16  0.201675  1.396260             0.750403                 0.204039\n",
       "17  0.307820  1.007852             0.688202                 0.198064\n",
       "18  0.413965  0.598752             0.189045                -0.094701\n",
       "19  0.520110  1.015720            -0.006052                -0.429289\n",
       "20  0.626255  0.716695            -0.156561                -0.530861\n",
       "21  0.732400  0.290604            -0.294305                -0.578659\n",
       "22  0.838545  0.615015            -0.329910                -0.745953\n",
       "23  0.944690  0.400746            -0.297840                -0.949096\n",
       "24  1.050835  0.296422            -0.421316                -1.044693\n",
       "25  1.156980  0.119506            -0.486424                -1.056625\n",
       "26  1.263125 -0.292305            -0.493828                -0.907273\n",
       "27  1.369270 -0.491434            -0.480707                -0.819027\n",
       "28  1.475415 -0.645145            -0.505246                -0.775827\n",
       "29  1.581560 -0.951640            -0.518369                -0.817810"
      ]
     },
     "execution_count": 26,
     "metadata": {},
     "output_type": "execute_result"
    }
   ],
   "source": [
    "from sklearn.preprocessing import StandardScaler\n",
    "import numpy as np\n",
    "\n",
    "# Para hacerla fácil, armamos una lista con las columnas a normalizar\n",
    "columns_to_normalize = ['Año', 'Egresos', 'Día-cama disponible', 'Promedio de permanencia']\n",
    "\n",
    "# Z-score\n",
    "scaler = StandardScaler() # instanciamos el objeto que escala\n",
    "data2[columns_to_normalize] = scaler.fit_transform(data2[columns_to_normalize]) # fit_transform: primero se \"amolda\" (fitea), después aplica la transformacion sobre las columnas a normalizar\n",
    "\n",
    "data2"
   ]
  },
  {
   "cell_type": "code",
   "execution_count": 27,
   "metadata": {},
   "outputs": [
    {
     "name": "stdout",
     "output_type": "stream",
     "text": [
      "Mean Squared Error: 0.052931521703472144\n",
      "R^2 Score: 0.9376604713972134\n"
     ]
    }
   ],
   "source": [
    "# Decision Tree\n",
    "# Importar las librerías necesarias\n",
    "from sklearn.tree import DecisionTreeRegressor\n",
    "from sklearn.model_selection import train_test_split\n",
    "from sklearn.metrics import mean_squared_error, r2_score\n",
    "\n",
    "# Definir la función para evaluar el modelo\n",
    "def evaluate_model(model, X_train, X_test, y_train, y_test):\n",
    "    # Entrenamiento del modelo\n",
    "    model.fit(X_train, y_train)\n",
    "\n",
    "    # Generar predicciones con el modelo ya entrenado usando las variables predictoras de test\n",
    "    y_pred = model.predict(X_test)\n",
    "\n",
    "    # Calcular métricas comparando mi predicción de y de test contra los valores reales\n",
    "    mse = mean_squared_error(y_test, y_pred)\n",
    "    r2 = r2_score(y_test, y_pred)\n",
    "\n",
    "    # Imprimir resultados\n",
    "    print(f'Mean Squared Error: {mse}')\n",
    "    print(f'R^2 Score: {r2}')\n",
    "\n",
    "    \n",
    "    # Devolver modelo y predicciones para poder guardar los objetos\n",
    "    return model, y_pred\n",
    "\n",
    "# Selección de variables independientes (X) y la variable objetivo (y)\n",
    "X = data2[['Año', 'Egresos', 'Día-cama disponible']]\n",
    "y = data2['Promedio de permanencia']\n",
    "\n",
    "# Dividir los datos en conjuntos de entrenamiento y prueba\n",
    "X_train, X_test, y_train, y_test = train_test_split(X, y, test_size=0.2, random_state=42)\n",
    "\n",
    "# Crear el modelo de árbol de decisión\n",
    "dt_model = DecisionTreeRegressor(random_state=42)\n",
    "\n",
    "# Evaluar el modelo\n",
    "dt_model, dt_pred = evaluate_model(dt_model, X_train, X_test, y_train, y_test)"
   ]
  }
 ],
 "metadata": {
  "kernelspec": {
   "display_name": "base",
   "language": "python",
   "name": "python3"
  },
  "language_info": {
   "codemirror_mode": {
    "name": "ipython",
    "version": 3
   },
   "file_extension": ".py",
   "mimetype": "text/x-python",
   "name": "python",
   "nbconvert_exporter": "python",
   "pygments_lexer": "ipython3",
   "version": "3.12.3"
  }
 },
 "nbformat": 4,
 "nbformat_minor": 2
}
