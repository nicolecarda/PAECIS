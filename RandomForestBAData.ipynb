{
 "cells": [
  {
   "cell_type": "code",
   "execution_count": 1,
   "metadata": {},
   "outputs": [
    {
     "name": "stdout",
     "output_type": "stream",
     "text": [
      "Requirement already satisfied: scikit-learn in c:\\users\\niki\\anaconda3\\lib\\site-packages (1.2.2)\n",
      "Requirement already satisfied: numpy>=1.17.3 in c:\\users\\niki\\anaconda3\\lib\\site-packages (from scikit-learn) (1.26.4)\n",
      "Requirement already satisfied: scipy>=1.3.2 in c:\\users\\niki\\anaconda3\\lib\\site-packages (from scikit-learn) (1.11.4)\n",
      "Requirement already satisfied: joblib>=1.1.1 in c:\\users\\niki\\anaconda3\\lib\\site-packages (from scikit-learn) (1.2.0)\n",
      "Requirement already satisfied: threadpoolctl>=2.0.0 in c:\\users\\niki\\anaconda3\\lib\\site-packages (from scikit-learn) (2.2.0)\n",
      "Note: you may need to restart the kernel to use updated packages.\n"
     ]
    }
   ],
   "source": [
    "%pip install scikit-learn"
   ]
  },
  {
   "cell_type": "code",
   "execution_count": 2,
   "metadata": {},
   "outputs": [
    {
     "name": "stdout",
     "output_type": "stream",
     "text": [
      "%pylab is deprecated, use %matplotlib inline and import the required libraries.\n",
      "Populating the interactive namespace from numpy and matplotlib\n"
     ]
    }
   ],
   "source": [
    "from ast import increment_lineno\n",
    "# Importación de librerias\n",
    "import numpy as np\n",
    "import pandas as pd\n",
    "import matplotlib.pyplot as plt\n",
    "import seaborn as sns\n",
    "from sklearn import datasets\n",
    "from sklearn import metrics\n",
    "%pylab inline\n",
    "%matplotlib inline\n",
    "\n"
   ]
  },
  {
   "cell_type": "code",
   "execution_count": 3,
   "metadata": {},
   "outputs": [],
   "source": [
    "# guardo la ubicacion del excel en una variable y luego en un dataframe\n",
    "\n",
    "ubicacion = 'https://cdn.buenosaires.gob.ar/datosabiertos/datasets/ministerio-de-salud/movimiento-hospitalario/mh_internacion.xlsx'\n",
    "data = pd.read_excel(ubicacion, sheet_name='mh_internacion')"
   ]
  },
  {
   "cell_type": "code",
   "execution_count": 4,
   "metadata": {},
   "outputs": [
    {
     "data": {
      "text/plain": [
       "array(['SERVICIO', 'ESPECIALIDADES', 'ING', 'PASES_A', 'ING_PASES',\n",
       "       'ALTAS', 'DEF', 'TOTAL', 'PASES_B', 'EGR_PASES', 'DIAS_CAMAS_DISP',\n",
       "       'PAC_DIA', 'PROMEDIO_CAMAS_DISP', 'PROMEDIO_PAC_DIA',\n",
       "       'PORCENTAJE_OCUP', 'PROMEDIO_PERM', 'GIRO', 'TASA_MORT_HOSP',\n",
       "       'ANIO', 'SK_ID_EFECTOR', 'NOM_EFECTOR_BADATA', 'OBSERVACIONES'],\n",
       "      dtype=object)"
      ]
     },
     "execution_count": 4,
     "metadata": {},
     "output_type": "execute_result"
    }
   ],
   "source": [
    "# traigo las columnas del dataframe\n",
    "data.columns.values"
   ]
  },
  {
   "cell_type": "code",
   "execution_count": 5,
   "metadata": {},
   "outputs": [
    {
     "data": {
      "text/html": [
       "<div>\n",
       "<style scoped>\n",
       "    .dataframe tbody tr th:only-of-type {\n",
       "        vertical-align: middle;\n",
       "    }\n",
       "\n",
       "    .dataframe tbody tr th {\n",
       "        vertical-align: top;\n",
       "    }\n",
       "\n",
       "    .dataframe thead th {\n",
       "        text-align: right;\n",
       "    }\n",
       "</style>\n",
       "<table border=\"1\" class=\"dataframe\">\n",
       "  <thead>\n",
       "    <tr style=\"text-align: right;\">\n",
       "      <th></th>\n",
       "      <th>SERVICIO</th>\n",
       "      <th>ESPECIALIDADES</th>\n",
       "      <th>ING</th>\n",
       "      <th>PASES_A</th>\n",
       "      <th>ING_PASES</th>\n",
       "      <th>ALTAS</th>\n",
       "      <th>DEF</th>\n",
       "      <th>TOTAL</th>\n",
       "      <th>PASES_B</th>\n",
       "      <th>EGR_PASES</th>\n",
       "      <th>...</th>\n",
       "      <th>PROMEDIO_CAMAS_DISP</th>\n",
       "      <th>PROMEDIO_PAC_DIA</th>\n",
       "      <th>PORCENTAJE_OCUP</th>\n",
       "      <th>PROMEDIO_PERM</th>\n",
       "      <th>GIRO</th>\n",
       "      <th>TASA_MORT_HOSP</th>\n",
       "      <th>ANIO</th>\n",
       "      <th>SK_ID_EFECTOR</th>\n",
       "      <th>NOM_EFECTOR_BADATA</th>\n",
       "      <th>OBSERVACIONES</th>\n",
       "    </tr>\n",
       "  </thead>\n",
       "  <tbody>\n",
       "    <tr>\n",
       "      <th>0</th>\n",
       "      <td>Cirugia</td>\n",
       "      <td>Urologia</td>\n",
       "      <td>304</td>\n",
       "      <td>21.0</td>\n",
       "      <td>325.0</td>\n",
       "      <td>319.0</td>\n",
       "      <td>0.0</td>\n",
       "      <td>319.0</td>\n",
       "      <td>4.0</td>\n",
       "      <td>323.0</td>\n",
       "      <td>...</td>\n",
       "      <td>1292.0</td>\n",
       "      <td>499.0</td>\n",
       "      <td>3861.0</td>\n",
       "      <td>563.0</td>\n",
       "      <td>2501.0</td>\n",
       "      <td>0.0</td>\n",
       "      <td>2011</td>\n",
       "      <td>2164</td>\n",
       "      <td>HOSPITAL GENERAL DE NIÑOS RICARDO GUTIERREZ</td>\n",
       "      <td>NaN</td>\n",
       "    </tr>\n",
       "    <tr>\n",
       "      <th>1</th>\n",
       "      <td>Cirugia</td>\n",
       "      <td>Subtotal Cirugia</td>\n",
       "      <td>4661</td>\n",
       "      <td>634.0</td>\n",
       "      <td>5295.0</td>\n",
       "      <td>4616.0</td>\n",
       "      <td>27.0</td>\n",
       "      <td>4643.0</td>\n",
       "      <td>646.0</td>\n",
       "      <td>5289.0</td>\n",
       "      <td>...</td>\n",
       "      <td>13295.0</td>\n",
       "      <td>7213.0</td>\n",
       "      <td>5425.0</td>\n",
       "      <td>498.0</td>\n",
       "      <td>3978.0</td>\n",
       "      <td>51.0</td>\n",
       "      <td>2011</td>\n",
       "      <td>2164</td>\n",
       "      <td>HOSPITAL GENERAL DE NIÑOS RICARDO GUTIERREZ</td>\n",
       "      <td>NaN</td>\n",
       "    </tr>\n",
       "    <tr>\n",
       "      <th>2</th>\n",
       "      <td>Urgencia</td>\n",
       "      <td>Terapia Intensiva</td>\n",
       "      <td>101</td>\n",
       "      <td>236.0</td>\n",
       "      <td>337.0</td>\n",
       "      <td>3.0</td>\n",
       "      <td>62.0</td>\n",
       "      <td>65.0</td>\n",
       "      <td>273.0</td>\n",
       "      <td>338.0</td>\n",
       "      <td>...</td>\n",
       "      <td>1668.0</td>\n",
       "      <td>1398.0</td>\n",
       "      <td>8379.0</td>\n",
       "      <td>1509.0</td>\n",
       "      <td>2026.0</td>\n",
       "      <td>1834.0</td>\n",
       "      <td>2011</td>\n",
       "      <td>2164</td>\n",
       "      <td>HOSPITAL GENERAL DE NIÑOS RICARDO GUTIERREZ</td>\n",
       "      <td>NaN</td>\n",
       "    </tr>\n",
       "    <tr>\n",
       "      <th>3</th>\n",
       "      <td>Urgencia</td>\n",
       "      <td>Subtotal Urgencia</td>\n",
       "      <td>101</td>\n",
       "      <td>236.0</td>\n",
       "      <td>337.0</td>\n",
       "      <td>3.0</td>\n",
       "      <td>62.0</td>\n",
       "      <td>65.0</td>\n",
       "      <td>273.0</td>\n",
       "      <td>338.0</td>\n",
       "      <td>...</td>\n",
       "      <td>1668.0</td>\n",
       "      <td>1398.0</td>\n",
       "      <td>8379.0</td>\n",
       "      <td>1509.0</td>\n",
       "      <td>2026.0</td>\n",
       "      <td>1834.0</td>\n",
       "      <td>2011</td>\n",
       "      <td>2164</td>\n",
       "      <td>HOSPITAL GENERAL DE NIÑOS RICARDO GUTIERREZ</td>\n",
       "      <td>NaN</td>\n",
       "    </tr>\n",
       "    <tr>\n",
       "      <th>4</th>\n",
       "      <td>Urgencia</td>\n",
       "      <td>Total Hospital</td>\n",
       "      <td>9749</td>\n",
       "      <td>1592.0</td>\n",
       "      <td>11341.0</td>\n",
       "      <td>9633.0</td>\n",
       "      <td>124.0</td>\n",
       "      <td>9757.0</td>\n",
       "      <td>1592.0</td>\n",
       "      <td>11349.0</td>\n",
       "      <td>...</td>\n",
       "      <td>31812.0</td>\n",
       "      <td>21721.0</td>\n",
       "      <td>6828.0</td>\n",
       "      <td>813.0</td>\n",
       "      <td>3067.0</td>\n",
       "      <td>127.0</td>\n",
       "      <td>2011</td>\n",
       "      <td>2164</td>\n",
       "      <td>HOSPITAL GENERAL DE NIÑOS RICARDO GUTIERREZ</td>\n",
       "      <td>NaN</td>\n",
       "    </tr>\n",
       "  </tbody>\n",
       "</table>\n",
       "<p>5 rows × 22 columns</p>\n",
       "</div>"
      ],
      "text/plain": [
       "   SERVICIO     ESPECIALIDADES   ING  PASES_A  ING_PASES   ALTAS    DEF  \\\n",
       "0   Cirugia           Urologia   304     21.0      325.0   319.0    0.0   \n",
       "1   Cirugia   Subtotal Cirugia  4661    634.0     5295.0  4616.0   27.0   \n",
       "2  Urgencia  Terapia Intensiva   101    236.0      337.0     3.0   62.0   \n",
       "3  Urgencia  Subtotal Urgencia   101    236.0      337.0     3.0   62.0   \n",
       "4  Urgencia     Total Hospital  9749   1592.0    11341.0  9633.0  124.0   \n",
       "\n",
       "    TOTAL  PASES_B  EGR_PASES  ...  PROMEDIO_CAMAS_DISP  PROMEDIO_PAC_DIA  \\\n",
       "0   319.0      4.0      323.0  ...               1292.0             499.0   \n",
       "1  4643.0    646.0     5289.0  ...              13295.0            7213.0   \n",
       "2    65.0    273.0      338.0  ...               1668.0            1398.0   \n",
       "3    65.0    273.0      338.0  ...               1668.0            1398.0   \n",
       "4  9757.0   1592.0    11349.0  ...              31812.0           21721.0   \n",
       "\n",
       "   PORCENTAJE_OCUP  PROMEDIO_PERM    GIRO  TASA_MORT_HOSP  ANIO  \\\n",
       "0           3861.0          563.0  2501.0             0.0  2011   \n",
       "1           5425.0          498.0  3978.0            51.0  2011   \n",
       "2           8379.0         1509.0  2026.0          1834.0  2011   \n",
       "3           8379.0         1509.0  2026.0          1834.0  2011   \n",
       "4           6828.0          813.0  3067.0           127.0  2011   \n",
       "\n",
       "   SK_ID_EFECTOR                           NOM_EFECTOR_BADATA  OBSERVACIONES  \n",
       "0           2164  HOSPITAL GENERAL DE NIÑOS RICARDO GUTIERREZ            NaN  \n",
       "1           2164  HOSPITAL GENERAL DE NIÑOS RICARDO GUTIERREZ            NaN  \n",
       "2           2164  HOSPITAL GENERAL DE NIÑOS RICARDO GUTIERREZ            NaN  \n",
       "3           2164  HOSPITAL GENERAL DE NIÑOS RICARDO GUTIERREZ            NaN  \n",
       "4           2164  HOSPITAL GENERAL DE NIÑOS RICARDO GUTIERREZ            NaN  \n",
       "\n",
       "[5 rows x 22 columns]"
      ]
     },
     "execution_count": 5,
     "metadata": {},
     "output_type": "execute_result"
    }
   ],
   "source": [
    "# traigo las primeras filas del df para ver si se guardo correctamente\n",
    "data.head()"
   ]
  },
  {
   "cell_type": "code",
   "execution_count": 6,
   "metadata": {},
   "outputs": [
    {
     "data": {
      "text/html": [
       "<div>\n",
       "<style scoped>\n",
       "    .dataframe tbody tr th:only-of-type {\n",
       "        vertical-align: middle;\n",
       "    }\n",
       "\n",
       "    .dataframe tbody tr th {\n",
       "        vertical-align: top;\n",
       "    }\n",
       "\n",
       "    .dataframe thead th {\n",
       "        text-align: right;\n",
       "    }\n",
       "</style>\n",
       "<table border=\"1\" class=\"dataframe\">\n",
       "  <thead>\n",
       "    <tr style=\"text-align: right;\">\n",
       "      <th></th>\n",
       "      <th>SERVICIO</th>\n",
       "      <th>ESPECIALIDADES</th>\n",
       "      <th>ING</th>\n",
       "      <th>PASES_A</th>\n",
       "      <th>ING_PASES</th>\n",
       "      <th>ALTAS</th>\n",
       "      <th>DEF</th>\n",
       "      <th>TOTAL</th>\n",
       "      <th>PASES_B</th>\n",
       "      <th>EGR_PASES</th>\n",
       "      <th>...</th>\n",
       "      <th>PROMEDIO_CAMAS_DISP</th>\n",
       "      <th>PROMEDIO_PAC_DIA</th>\n",
       "      <th>PORCENTAJE_OCUP</th>\n",
       "      <th>PROMEDIO_PERM</th>\n",
       "      <th>GIRO</th>\n",
       "      <th>TASA_MORT_HOSP</th>\n",
       "      <th>ANIO</th>\n",
       "      <th>SK_ID_EFECTOR</th>\n",
       "      <th>NOM_EFECTOR_BADATA</th>\n",
       "      <th>OBSERVACIONES</th>\n",
       "    </tr>\n",
       "  </thead>\n",
       "  <tbody>\n",
       "    <tr>\n",
       "      <th>1</th>\n",
       "      <td>Cirugia</td>\n",
       "      <td>Subtotal Cirugia</td>\n",
       "      <td>4661</td>\n",
       "      <td>634.0</td>\n",
       "      <td>5295.0</td>\n",
       "      <td>4616.0</td>\n",
       "      <td>27.0</td>\n",
       "      <td>4643.0</td>\n",
       "      <td>646.0</td>\n",
       "      <td>5289.0</td>\n",
       "      <td>...</td>\n",
       "      <td>13295.0</td>\n",
       "      <td>7213.0</td>\n",
       "      <td>5425.0</td>\n",
       "      <td>498.0</td>\n",
       "      <td>3978.0</td>\n",
       "      <td>51.0</td>\n",
       "      <td>2011</td>\n",
       "      <td>2164</td>\n",
       "      <td>HOSPITAL GENERAL DE NIÑOS RICARDO GUTIERREZ</td>\n",
       "      <td>NaN</td>\n",
       "    </tr>\n",
       "    <tr>\n",
       "      <th>3</th>\n",
       "      <td>Urgencia</td>\n",
       "      <td>Subtotal Urgencia</td>\n",
       "      <td>101</td>\n",
       "      <td>236.0</td>\n",
       "      <td>337.0</td>\n",
       "      <td>3.0</td>\n",
       "      <td>62.0</td>\n",
       "      <td>65.0</td>\n",
       "      <td>273.0</td>\n",
       "      <td>338.0</td>\n",
       "      <td>...</td>\n",
       "      <td>1668.0</td>\n",
       "      <td>1398.0</td>\n",
       "      <td>8379.0</td>\n",
       "      <td>1509.0</td>\n",
       "      <td>2026.0</td>\n",
       "      <td>1834.0</td>\n",
       "      <td>2011</td>\n",
       "      <td>2164</td>\n",
       "      <td>HOSPITAL GENERAL DE NIÑOS RICARDO GUTIERREZ</td>\n",
       "      <td>NaN</td>\n",
       "    </tr>\n",
       "    <tr>\n",
       "      <th>7</th>\n",
       "      <td>Pediatria</td>\n",
       "      <td>Subtotal Pediatria</td>\n",
       "      <td>6536</td>\n",
       "      <td>1612.0</td>\n",
       "      <td>8148.0</td>\n",
       "      <td>6481.0</td>\n",
       "      <td>69.0</td>\n",
       "      <td>6550.0</td>\n",
       "      <td>1614.0</td>\n",
       "      <td>8164.0</td>\n",
       "      <td>...</td>\n",
       "      <td>14986.0</td>\n",
       "      <td>8535.0</td>\n",
       "      <td>5696.0</td>\n",
       "      <td>382.0</td>\n",
       "      <td>5448.0</td>\n",
       "      <td>85.0</td>\n",
       "      <td>2011</td>\n",
       "      <td>2167</td>\n",
       "      <td>HOSPITAL MATERNO INFANTIL R. SARDA</td>\n",
       "      <td>NaN</td>\n",
       "    </tr>\n",
       "    <tr>\n",
       "      <th>9</th>\n",
       "      <td>Tocoginecologia</td>\n",
       "      <td>Subtotal Tocoginecologia</td>\n",
       "      <td>8015</td>\n",
       "      <td>214.0</td>\n",
       "      <td>8229.0</td>\n",
       "      <td>8064.0</td>\n",
       "      <td>0.0</td>\n",
       "      <td>8064.0</td>\n",
       "      <td>152.0</td>\n",
       "      <td>8216.0</td>\n",
       "      <td>...</td>\n",
       "      <td>10388.0</td>\n",
       "      <td>8721.0</td>\n",
       "      <td>8395.0</td>\n",
       "      <td>387.0</td>\n",
       "      <td>7909.0</td>\n",
       "      <td>0.0</td>\n",
       "      <td>2011</td>\n",
       "      <td>2167</td>\n",
       "      <td>HOSPITAL MATERNO INFANTIL R. SARDA</td>\n",
       "      <td>NaN</td>\n",
       "    </tr>\n",
       "    <tr>\n",
       "      <th>12</th>\n",
       "      <td>Urgencia</td>\n",
       "      <td>Subtotal Urgencia</td>\n",
       "      <td>125</td>\n",
       "      <td>50.0</td>\n",
       "      <td>175.0</td>\n",
       "      <td>61.0</td>\n",
       "      <td>4.0</td>\n",
       "      <td>65.0</td>\n",
       "      <td>110.0</td>\n",
       "      <td>175.0</td>\n",
       "      <td>...</td>\n",
       "      <td>7.0</td>\n",
       "      <td>182.0</td>\n",
       "      <td>2595.0</td>\n",
       "      <td>379.0</td>\n",
       "      <td>25.0</td>\n",
       "      <td>229.0</td>\n",
       "      <td>2011</td>\n",
       "      <td>2167</td>\n",
       "      <td>HOSPITAL MATERNO INFANTIL R. SARDA</td>\n",
       "      <td>NaN</td>\n",
       "    </tr>\n",
       "  </tbody>\n",
       "</table>\n",
       "<p>5 rows × 22 columns</p>\n",
       "</div>"
      ],
      "text/plain": [
       "           SERVICIO            ESPECIALIDADES   ING  PASES_A  ING_PASES  \\\n",
       "1           Cirugia          Subtotal Cirugia  4661    634.0     5295.0   \n",
       "3          Urgencia         Subtotal Urgencia   101    236.0      337.0   \n",
       "7         Pediatria        Subtotal Pediatria  6536   1612.0     8148.0   \n",
       "9   Tocoginecologia  Subtotal Tocoginecologia  8015    214.0     8229.0   \n",
       "12         Urgencia         Subtotal Urgencia   125     50.0      175.0   \n",
       "\n",
       "     ALTAS   DEF   TOTAL  PASES_B  EGR_PASES  ...  PROMEDIO_CAMAS_DISP  \\\n",
       "1   4616.0  27.0  4643.0    646.0     5289.0  ...              13295.0   \n",
       "3      3.0  62.0    65.0    273.0      338.0  ...               1668.0   \n",
       "7   6481.0  69.0  6550.0   1614.0     8164.0  ...              14986.0   \n",
       "9   8064.0   0.0  8064.0    152.0     8216.0  ...              10388.0   \n",
       "12    61.0   4.0    65.0    110.0      175.0  ...                  7.0   \n",
       "\n",
       "    PROMEDIO_PAC_DIA  PORCENTAJE_OCUP  PROMEDIO_PERM    GIRO  TASA_MORT_HOSP  \\\n",
       "1             7213.0           5425.0          498.0  3978.0            51.0   \n",
       "3             1398.0           8379.0         1509.0  2026.0          1834.0   \n",
       "7             8535.0           5696.0          382.0  5448.0            85.0   \n",
       "9             8721.0           8395.0          387.0  7909.0             0.0   \n",
       "12             182.0           2595.0          379.0    25.0           229.0   \n",
       "\n",
       "    ANIO  SK_ID_EFECTOR                           NOM_EFECTOR_BADATA  \\\n",
       "1   2011           2164  HOSPITAL GENERAL DE NIÑOS RICARDO GUTIERREZ   \n",
       "3   2011           2164  HOSPITAL GENERAL DE NIÑOS RICARDO GUTIERREZ   \n",
       "7   2011           2167           HOSPITAL MATERNO INFANTIL R. SARDA   \n",
       "9   2011           2167           HOSPITAL MATERNO INFANTIL R. SARDA   \n",
       "12  2011           2167           HOSPITAL MATERNO INFANTIL R. SARDA   \n",
       "\n",
       "    OBSERVACIONES  \n",
       "1             NaN  \n",
       "3             NaN  \n",
       "7             NaN  \n",
       "9             NaN  \n",
       "12            NaN  \n",
       "\n",
       "[5 rows x 22 columns]"
      ]
     },
     "execution_count": 6,
     "metadata": {},
     "output_type": "execute_result"
    }
   ],
   "source": [
    "# Eliminar filas para quedarme sólo con las que tienen el subtotal por servicio\n",
    "\n",
    "# Crear una máscara booleana para las filas que contienen la palabra 'subtotal'\n",
    "mask = data['ESPECIALIDADES'].str.contains('Subtotal', case=False, na=False)\n",
    "\n",
    "# Filtrar el DataFrame para mantener solo las filas que contienen 'subtotal'\n",
    "data = data[mask]\n",
    "\n",
    "# Imprimir el DataFrame después de filtrar\n",
    "\n",
    "data.head()\n"
   ]
  },
  {
   "cell_type": "code",
   "execution_count": 7,
   "metadata": {},
   "outputs": [],
   "source": [
    "# renombro los nombres de algunas columnas para que tengan más sentido\n",
    "data.rename(columns = {'ING':'INGRESOS', 'ING_PASES': 'SUMA_INGRESOS_PASES_A',\n",
    "       'DEF':'EGRESOS_DEFUNCION', 'TOTAL':'SUMA_ALTAS_DEFUNCIONES', 'EGR_PASES':'SUMA_EGRESOS_PASES_B', 'DIAS_CAMAS_DISP':'DIAS_CAMAS_DISPONIBLES',\n",
    "       'PAC_DIA':'PACIENTES_DIAS', 'PROMEDIO_CAMAS_DISP':'PROMEDIO_CAMAS_DISPONIBLES', 'PROMEDIO_PAC_DIA':'PROMEDIO_PACIENTES_DIA',\n",
    "       'PORCENTAJE_OCUP':'PORCENTAJE_OCUPACION', 'PROMEDIO_PERM':'PROMEDIO_PERMANENCIA', 'GIRO':'GIRO_CAMA', 'TASA_MORT_HOSP':'TASA_MORTALIDAD',\n",
    "       'SK_ID_EFECTOR':'ID_EFECTOR', 'NOM_EFECTOR_BADATA':'NOMBRE_EFECTOR_BADATA'}, inplace = True)"
   ]
  },
  {
   "cell_type": "code",
   "execution_count": 8,
   "metadata": {},
   "outputs": [],
   "source": [
    "# importo más librerias\n",
    "from sklearn.model_selection import train_test_split, GridSearchCV\n",
    "from sklearn.ensemble import RandomForestRegressor\n",
    "from sklearn.metrics import mean_squared_error, r2_score\n",
    "from sklearn.preprocessing import OneHotEncoder, StandardScaler\n",
    "from sklearn.compose import ColumnTransformer\n",
    "from sklearn.pipeline import Pipeline"
   ]
  },
  {
   "cell_type": "code",
   "execution_count": 9,
   "metadata": {},
   "outputs": [
    {
     "data": {
      "text/plain": [
       "array(['SERVICIO', 'ESPECIALIDADES', 'INGRESOS', 'PASES_A',\n",
       "       'SUMA_INGRESOS_PASES_A', 'ALTAS', 'EGRESOS_DEFUNCION',\n",
       "       'SUMA_ALTAS_DEFUNCIONES', 'PASES_B', 'SUMA_EGRESOS_PASES_B',\n",
       "       'DIAS_CAMAS_DISPONIBLES', 'PACIENTES_DIAS',\n",
       "       'PROMEDIO_CAMAS_DISPONIBLES', 'PROMEDIO_PACIENTES_DIA',\n",
       "       'PORCENTAJE_OCUPACION', 'PROMEDIO_PERMANENCIA', 'GIRO_CAMA',\n",
       "       'TASA_MORTALIDAD', 'ANIO', 'ID_EFECTOR', 'NOMBRE_EFECTOR_BADATA',\n",
       "       'OBSERVACIONES'], dtype=object)"
      ]
     },
     "execution_count": 9,
     "metadata": {},
     "output_type": "execute_result"
    }
   ],
   "source": [
    "# Reviso cómo se guardaron las columnas\n",
    "data.columns.values"
   ]
  },
  {
   "cell_type": "code",
   "execution_count": 10,
   "metadata": {},
   "outputs": [],
   "source": [
    "# Crear un nuevo DataFrame con ciertas columnas eliminadas\n",
    "\n",
    "data2 = data.drop(columns=['ESPECIALIDADES','SUMA_INGRESOS_PASES_A','SUMA_ALTAS_DEFUNCIONES', 'SUMA_EGRESOS_PASES_B','PROMEDIO_PACIENTES_DIA','PROMEDIO_CAMAS_DISPONIBLES', 'PACIENTES_DIAS','PORCENTAJE_OCUPACION','ID_EFECTOR','OBSERVACIONES'])"
   ]
  },
  {
   "cell_type": "code",
   "execution_count": 11,
   "metadata": {},
   "outputs": [
    {
     "data": {
      "text/plain": [
       "array(['SERVICIO', 'INGRESOS', 'PASES_A', 'ALTAS', 'EGRESOS_DEFUNCION',\n",
       "       'PASES_B', 'DIAS_CAMAS_DISPONIBLES', 'PROMEDIO_PERMANENCIA',\n",
       "       'GIRO_CAMA', 'TASA_MORTALIDAD', 'ANIO', 'NOMBRE_EFECTOR_BADATA'],\n",
       "      dtype=object)"
      ]
     },
     "execution_count": 11,
     "metadata": {},
     "output_type": "execute_result"
    }
   ],
   "source": [
    "# Traigo columnas para comprobar que se borraron correctamente\n",
    "data2.columns.values"
   ]
  },
  {
   "cell_type": "code",
   "execution_count": 12,
   "metadata": {},
   "outputs": [
    {
     "data": {
      "text/plain": [
       "SERVICIO                  0.0\n",
       "INGRESOS                  0.0\n",
       "PASES_A                   0.0\n",
       "ALTAS                     0.0\n",
       "EGRESOS_DEFUNCION         0.0\n",
       "PASES_B                   0.0\n",
       "DIAS_CAMAS_DISPONIBLES    0.0\n",
       "PROMEDIO_PERMANENCIA      0.0\n",
       "GIRO_CAMA                 0.0\n",
       "TASA_MORTALIDAD           0.0\n",
       "ANIO                      0.0\n",
       "NOMBRE_EFECTOR_BADATA     0.0\n",
       "dtype: float64"
      ]
     },
     "execution_count": 12,
     "metadata": {},
     "output_type": "execute_result"
    }
   ],
   "source": [
    "# Chequeo existencia de nulos\n",
    "\n",
    "data2.isnull().sum()/len(data)*100"
   ]
  },
  {
   "cell_type": "code",
   "execution_count": 13,
   "metadata": {},
   "outputs": [],
   "source": [
    "# Eliminar filas con valores nulos\n",
    "\n",
    "data3 = data2.dropna()"
   ]
  },
  {
   "cell_type": "code",
   "execution_count": 14,
   "metadata": {},
   "outputs": [
    {
     "data": {
      "text/plain": [
       "SERVICIO                  0.0\n",
       "INGRESOS                  0.0\n",
       "PASES_A                   0.0\n",
       "ALTAS                     0.0\n",
       "EGRESOS_DEFUNCION         0.0\n",
       "PASES_B                   0.0\n",
       "DIAS_CAMAS_DISPONIBLES    0.0\n",
       "PROMEDIO_PERMANENCIA      0.0\n",
       "GIRO_CAMA                 0.0\n",
       "TASA_MORTALIDAD           0.0\n",
       "ANIO                      0.0\n",
       "NOMBRE_EFECTOR_BADATA     0.0\n",
       "dtype: float64"
      ]
     },
     "execution_count": 14,
     "metadata": {},
     "output_type": "execute_result"
    }
   ],
   "source": [
    "# Vuelvo a comprobar si existen valores nulos\n",
    "\n",
    "data3.isnull().sum()/len(data)*100"
   ]
  },
  {
   "cell_type": "code",
   "execution_count": 15,
   "metadata": {},
   "outputs": [
    {
     "name": "stdout",
     "output_type": "stream",
     "text": [
      "0\n"
     ]
    }
   ],
   "source": [
    "# Chequeo si hay datos duplicados\n",
    "\n",
    "print(data3.duplicated().sum())"
   ]
  },
  {
   "cell_type": "code",
   "execution_count": 16,
   "metadata": {},
   "outputs": [
    {
     "data": {
      "text/html": [
       "<div>\n",
       "<style scoped>\n",
       "    .dataframe tbody tr th:only-of-type {\n",
       "        vertical-align: middle;\n",
       "    }\n",
       "\n",
       "    .dataframe tbody tr th {\n",
       "        vertical-align: top;\n",
       "    }\n",
       "\n",
       "    .dataframe thead th {\n",
       "        text-align: right;\n",
       "    }\n",
       "</style>\n",
       "<table border=\"1\" class=\"dataframe\">\n",
       "  <thead>\n",
       "    <tr style=\"text-align: right;\">\n",
       "      <th></th>\n",
       "      <th>INGRESOS</th>\n",
       "      <th>PASES_A</th>\n",
       "      <th>ALTAS</th>\n",
       "      <th>EGRESOS_DEFUNCION</th>\n",
       "      <th>PASES_B</th>\n",
       "      <th>DIAS_CAMAS_DISPONIBLES</th>\n",
       "      <th>PROMEDIO_PERMANENCIA</th>\n",
       "      <th>GIRO_CAMA</th>\n",
       "      <th>TASA_MORTALIDAD</th>\n",
       "      <th>ANIO</th>\n",
       "    </tr>\n",
       "  </thead>\n",
       "  <tbody>\n",
       "    <tr>\n",
       "      <th>count</th>\n",
       "      <td>695.000000</td>\n",
       "      <td>695.000000</td>\n",
       "      <td>695.000000</td>\n",
       "      <td>695.000000</td>\n",
       "      <td>695.000000</td>\n",
       "      <td>695.000000</td>\n",
       "      <td>695.000000</td>\n",
       "      <td>695.000000</td>\n",
       "      <td>695.000000</td>\n",
       "      <td>695.000000</td>\n",
       "    </tr>\n",
       "    <tr>\n",
       "      <th>mean</th>\n",
       "      <td>1716.899281</td>\n",
       "      <td>374.643165</td>\n",
       "      <td>1648.575540</td>\n",
       "      <td>64.601439</td>\n",
       "      <td>377.541007</td>\n",
       "      <td>25665.290647</td>\n",
       "      <td>1127.798561</td>\n",
       "      <td>3216.105036</td>\n",
       "      <td>384.787050</td>\n",
       "      <td>2013.974101</td>\n",
       "    </tr>\n",
       "    <tr>\n",
       "      <th>std</th>\n",
       "      <td>1589.935264</td>\n",
       "      <td>422.299386</td>\n",
       "      <td>1601.197083</td>\n",
       "      <td>96.008650</td>\n",
       "      <td>483.453285</td>\n",
       "      <td>43246.548696</td>\n",
       "      <td>2686.472184</td>\n",
       "      <td>3216.820592</td>\n",
       "      <td>701.762251</td>\n",
       "      <td>1.991167</td>\n",
       "    </tr>\n",
       "    <tr>\n",
       "      <th>min</th>\n",
       "      <td>0.000000</td>\n",
       "      <td>0.000000</td>\n",
       "      <td>0.000000</td>\n",
       "      <td>0.000000</td>\n",
       "      <td>0.000000</td>\n",
       "      <td>4.000000</td>\n",
       "      <td>0.000000</td>\n",
       "      <td>2.000000</td>\n",
       "      <td>0.000000</td>\n",
       "      <td>2011.000000</td>\n",
       "    </tr>\n",
       "    <tr>\n",
       "      <th>25%</th>\n",
       "      <td>418.000000</td>\n",
       "      <td>47.500000</td>\n",
       "      <td>374.000000</td>\n",
       "      <td>1.000000</td>\n",
       "      <td>53.000000</td>\n",
       "      <td>8523.500000</td>\n",
       "      <td>133.000000</td>\n",
       "      <td>356.000000</td>\n",
       "      <td>5.000000</td>\n",
       "      <td>2012.000000</td>\n",
       "    </tr>\n",
       "    <tr>\n",
       "      <th>50%</th>\n",
       "      <td>1354.000000</td>\n",
       "      <td>271.000000</td>\n",
       "      <td>1308.000000</td>\n",
       "      <td>18.000000</td>\n",
       "      <td>215.000000</td>\n",
       "      <td>14946.000000</td>\n",
       "      <td>479.000000</td>\n",
       "      <td>2824.000000</td>\n",
       "      <td>66.000000</td>\n",
       "      <td>2014.000000</td>\n",
       "    </tr>\n",
       "    <tr>\n",
       "      <th>75%</th>\n",
       "      <td>2720.500000</td>\n",
       "      <td>533.000000</td>\n",
       "      <td>2396.000000</td>\n",
       "      <td>83.000000</td>\n",
       "      <td>517.500000</td>\n",
       "      <td>27324.000000</td>\n",
       "      <td>951.500000</td>\n",
       "      <td>4629.000000</td>\n",
       "      <td>492.500000</td>\n",
       "      <td>2016.000000</td>\n",
       "    </tr>\n",
       "    <tr>\n",
       "      <th>max</th>\n",
       "      <td>8015.000000</td>\n",
       "      <td>2238.000000</td>\n",
       "      <td>8064.000000</td>\n",
       "      <td>504.000000</td>\n",
       "      <td>2348.000000</td>\n",
       "      <td>355823.000000</td>\n",
       "      <td>24728.000000</td>\n",
       "      <td>18596.000000</td>\n",
       "      <td>4209.000000</td>\n",
       "      <td>2017.000000</td>\n",
       "    </tr>\n",
       "  </tbody>\n",
       "</table>\n",
       "</div>"
      ],
      "text/plain": [
       "          INGRESOS      PASES_A        ALTAS  EGRESOS_DEFUNCION      PASES_B  \\\n",
       "count   695.000000   695.000000   695.000000         695.000000   695.000000   \n",
       "mean   1716.899281   374.643165  1648.575540          64.601439   377.541007   \n",
       "std    1589.935264   422.299386  1601.197083          96.008650   483.453285   \n",
       "min       0.000000     0.000000     0.000000           0.000000     0.000000   \n",
       "25%     418.000000    47.500000   374.000000           1.000000    53.000000   \n",
       "50%    1354.000000   271.000000  1308.000000          18.000000   215.000000   \n",
       "75%    2720.500000   533.000000  2396.000000          83.000000   517.500000   \n",
       "max    8015.000000  2238.000000  8064.000000         504.000000  2348.000000   \n",
       "\n",
       "       DIAS_CAMAS_DISPONIBLES  PROMEDIO_PERMANENCIA     GIRO_CAMA  \\\n",
       "count              695.000000            695.000000    695.000000   \n",
       "mean             25665.290647           1127.798561   3216.105036   \n",
       "std              43246.548696           2686.472184   3216.820592   \n",
       "min                  4.000000              0.000000      2.000000   \n",
       "25%               8523.500000            133.000000    356.000000   \n",
       "50%              14946.000000            479.000000   2824.000000   \n",
       "75%              27324.000000            951.500000   4629.000000   \n",
       "max             355823.000000          24728.000000  18596.000000   \n",
       "\n",
       "       TASA_MORTALIDAD         ANIO  \n",
       "count       695.000000   695.000000  \n",
       "mean        384.787050  2013.974101  \n",
       "std         701.762251     1.991167  \n",
       "min           0.000000  2011.000000  \n",
       "25%           5.000000  2012.000000  \n",
       "50%          66.000000  2014.000000  \n",
       "75%         492.500000  2016.000000  \n",
       "max        4209.000000  2017.000000  "
      ]
     },
     "execution_count": 16,
     "metadata": {},
     "output_type": "execute_result"
    }
   ],
   "source": [
    "# Ejecuto un describe sobre la tabla\n",
    "\n",
    "data3.describe()"
   ]
  },
  {
   "cell_type": "code",
   "execution_count": 17,
   "metadata": {},
   "outputs": [],
   "source": [
    "# La desviacion estandar es mayor que la media en todas las columnas, lo cual indica una gran dispersión de los valores y la existencia de otliers o valores atípicos"
   ]
  },
  {
   "cell_type": "code",
   "execution_count": 18,
   "metadata": {},
   "outputs": [
    {
     "name": "stdout",
     "output_type": "stream",
     "text": [
      "['Cirugia' 'Urgencia' 'Pediatria' 'Tocoginecologia' 'Medicina'\n",
      " 'Internacion De Corta Estadia' 'Area Indiferenciada'\n",
      " 'Cuidados Genereales - Area Indiferenciada' 'Cuidados Especiales'\n",
      " 'Cuidados Grales - Area Indiferenciada']\n"
     ]
    }
   ],
   "source": [
    "#Reviso los valores de las columnas que tienen valores categoricos SERVICIO, NOMBRE_EFECTOR_BADATA\n",
    "\n",
    "print(data3[\"SERVICIO\"].unique())"
   ]
  },
  {
   "cell_type": "code",
   "execution_count": 19,
   "metadata": {},
   "outputs": [
    {
     "name": "stdout",
     "output_type": "stream",
     "text": [
      "['HOSPITAL GENERAL DE NIÑOS RICARDO GUTIERREZ'\n",
      " 'HOSPITAL MATERNO INFANTIL R. SARDA' 'HOSPITAL DE INFECCIOSAS F. MUÑIZ'\n",
      " 'HOSPITAL MUNICIPAL DE ONCOLOGIA MARIE CURIE'\n",
      " 'HOSPITAL DE QUEMADOS DR. ARTURO UMBERTO ILLIA'\n",
      " 'HOSPITAL DE GASTROENTEROLOGIA B. UDAONDO'\n",
      " 'HOSPITAL OFTALMOLOGICO DR. PEDRO LAGLEYZE'\n",
      " 'HOSPITAL DE OFTALMOLOGIA SANTA LUCIA'\n",
      " 'HOSPITAL DE SALUD MENTAL J. T. BORDA'\n",
      " 'HOSPITAL DE SALUD MENTAL BRAULIO MOYANO'\n",
      " 'HOSPITAL INFANTO JUVENIL C. TOBAR GARCIA'\n",
      " 'HOSPITAL DE EMERGENCIAS PSIQUIATRICAS TORCUATO DE ALVEAR'\n",
      " 'HOSPITAL DE REHABILITACION M. ROCCA'\n",
      " 'INSTITUTO DE REHABILITACION PSICOFISICA (I.R.E.P.)'\n",
      " 'HOSPITAL DE REHABILITACION RESPIRATORIA MARIA FERRER'\n",
      " 'HOSPITAL GENERAL DE AGUDOS DR. T. ALVAREZ'\n",
      " 'HOSPITAL GENERAL DE AGUDOS DR C. ARGERICH'\n",
      " 'HOSPITAL GENERAL DE AGUDOS DR. C. DURAND'\n",
      " 'HOSPITAL GENERAL DE AGUDOS DR. J. A. FERNANDEZ'\n",
      " 'HOSPITAL GENERAL DE AGUDOS J. A. PENNA'\n",
      " 'HOSPITAL GENERAL DE AGUDOS P. PIÑERO'\n",
      " 'HOSPITAL GENERAL DE AGUDOS DR. I. PIROVANO'\n",
      " 'HOSPITAL GENERAL DE AGUDOS J. M. RAMOS MEJIA'\n",
      " 'HOSPITAL GENERAL DE AGUDOS B. RIVADAVIA'\n",
      " 'HOSPITAL GENERAL DE AGUDOS DONACION F. SANTOJANNI'\n",
      " 'HOSPITAL GENERAL DE AGUDOS DR. E. TORNU'\n",
      " 'HOSPITAL GENERAL DE AGUDOS D. VELEZ SARSFIELD'\n",
      " 'HOSPITAL GENERAL DE AGUDOS A. ZUBIZARRETA'\n",
      " 'HOSPITAL GENERAL DE NIÑOS PEDRO DE ELIZALDE']\n"
     ]
    }
   ],
   "source": [
    "print(data3[\"NOMBRE_EFECTOR_BADATA\"].unique())"
   ]
  },
  {
   "cell_type": "code",
   "execution_count": 20,
   "metadata": {},
   "outputs": [],
   "source": [
    "# Transformo los datos categóricos a numéricos\n",
    "\n",
    "data3['SERVICIO'] = data3['SERVICIO'].map({\n",
    "    'Cirugia':1,\n",
    "    'Urgencia':2,\n",
    "    'Pediatria':3,\n",
    "    'Tocoginecologia':4,\n",
    "    'Medicina':5,\n",
    "    'Internacion De Corta Estadia':6,\n",
    "    'Area Indiferenciada':7,\n",
    "    'Cuidados Genereales - Area Indiferenciada':8,\n",
    "    'Cuidados Especiales':9,\n",
    "    'Cuidados Grales - Area Indiferenciada':10\n",
    "})"
   ]
  },
  {
   "cell_type": "code",
   "execution_count": 21,
   "metadata": {},
   "outputs": [],
   "source": [
    "# Asigno valores por tipo de hospital (1: General, 2: de niños, 3: especializados-de infecciosas, oncologico, etc.-, 4: de salud mental)\n",
    "\n",
    "data3['NOMBRE_EFECTOR_BADATA'] = data3['NOMBRE_EFECTOR_BADATA'].map({\n",
    " 'HOSPITAL GENERAL DE NIÑOS RICARDO GUTIERREZ':2,\n",
    " 'HOSPITAL MATERNO INFANTIL R. SARDA':2,\n",
    " 'HOSPITAL DE INFECCIOSAS F. MUÑIZ':3,\n",
    " 'HOSPITAL MUNICIPAL DE ONCOLOGIA MARIE CURIE':3,\n",
    " 'HOSPITAL DE QUEMADOS DR. ARTURO UMBERTO ILLIA':3,\n",
    " 'HOSPITAL DE GASTROENTEROLOGIA B. UDAONDO':3,\n",
    " 'HOSPITAL OFTALMOLOGICO DR. PEDRO LAGLEYZE':3,\n",
    " 'HOSPITAL DE OFTALMOLOGIA SANTA LUCIA':3,\n",
    " 'HOSPITAL DE SALUD MENTAL J. T. BORDA':4,\n",
    " 'HOSPITAL DE SALUD MENTAL BRAULIO MOYANO':4,\n",
    " 'HOSPITAL INFANTO JUVENIL C. TOBAR GARCIA':4,\n",
    " 'HOSPITAL DE EMERGENCIAS PSIQUIATRICAS TORCUATO DE ALVEAR':4,\n",
    " 'HOSPITAL DE REHABILITACION M. ROCCA':3,\n",
    " 'INSTITUTO DE REHABILITACION PSICOFISICA (I.R.E.P.)':3,\n",
    " 'HOSPITAL DE REHABILITACION RESPIRATORIA MARIA FERRER':3,\n",
    " 'HOSPITAL GENERAL DE AGUDOS DR. T. ALVAREZ':1,\n",
    " 'HOSPITAL GENERAL DE AGUDOS DR C. ARGERICH':1,\n",
    " 'HOSPITAL GENERAL DE AGUDOS DR. C. DURAND':1,\n",
    " 'HOSPITAL GENERAL DE AGUDOS DR. J. A. FERNANDEZ':1,\n",
    " 'HOSPITAL GENERAL DE AGUDOS J. A. PENNA':1,\n",
    " 'HOSPITAL GENERAL DE AGUDOS P. PIÑERO':1,\n",
    " 'HOSPITAL GENERAL DE AGUDOS DR. I. PIROVANO':1,\n",
    " 'HOSPITAL GENERAL DE AGUDOS J. M. RAMOS MEJIA':1,\n",
    " 'HOSPITAL GENERAL DE AGUDOS B. RIVADAVIA':1,\n",
    " 'HOSPITAL GENERAL DE AGUDOS DONACION F. SANTOJANNI':1,\n",
    " 'HOSPITAL GENERAL DE AGUDOS DR. E. TORNU':1,\n",
    " 'HOSPITAL GENERAL DE AGUDOS D. VELEZ SARSFIELD':1,\n",
    " 'HOSPITAL GENERAL DE AGUDOS A. ZUBIZARRETA':1,\n",
    " 'HOSPITAL GENERAL DE NIÑOS PEDRO DE ELIZALDE':1\n",
    "})"
   ]
  },
  {
   "cell_type": "code",
   "execution_count": 22,
   "metadata": {},
   "outputs": [
    {
     "name": "stdout",
     "output_type": "stream",
     "text": [
      "      SERVICIO  INGRESOS  PASES_A   ALTAS  EGRESOS_DEFUNCION  PASES_B  \\\n",
      "1            1      4661    634.0  4616.0               27.0    646.0   \n",
      "3            2       101    236.0     3.0               62.0    273.0   \n",
      "7            3      6536   1612.0  6481.0               69.0   1614.0   \n",
      "9            4      8015    214.0  8064.0                0.0    152.0   \n",
      "12           2       125     50.0    61.0                4.0    110.0   \n",
      "...        ...       ...      ...     ...                ...      ...   \n",
      "2797         5       630    202.0   777.0               19.0     46.0   \n",
      "2799         2       283     38.0    97.0               31.0    194.0   \n",
      "2806         1         0     30.0     3.0                1.0     20.0   \n",
      "2809         1         0     75.0    16.0                3.0     58.0   \n",
      "2811         4      1838      5.0  1842.0                0.0     10.0   \n",
      "\n",
      "      DIAS_CAMAS_DISPONIBLES  PROMEDIO_PERMANENCIA  GIRO_CAMA  \\\n",
      "1                    48525.0                 498.0     3978.0   \n",
      "3                     6089.0                1509.0     2026.0   \n",
      "7                    54699.0                 382.0     5448.0   \n",
      "9                    37916.0                 387.0     7909.0   \n",
      "12                    2555.0                 379.0       25.0   \n",
      "...                      ...                   ...        ...   \n",
      "2797                  3860.0                 379.0     7962.0   \n",
      "2799                  2793.0                  66.0     4208.0   \n",
      "2806                  3650.0                 112.0        2.0   \n",
      "2809                 11680.0                  64.0        2.0   \n",
      "2811                  8790.0                   3.0       77.0   \n",
      "\n",
      "      TASA_MORTALIDAD  ANIO  NOMBRE_EFECTOR_BADATA  \n",
      "1                51.0  2011                      2  \n",
      "3              1834.0  2011                      2  \n",
      "7                85.0  2011                      2  \n",
      "9                 0.0  2011                      2  \n",
      "12              229.0  2011                      2  \n",
      "...               ...   ...                    ...  \n",
      "2797            226.0  2017                      3  \n",
      "2799            963.0  2017                      3  \n",
      "2806              4.0  2011                      4  \n",
      "2809              3.0  2011                      4  \n",
      "2811              0.0  2012                      1  \n",
      "\n",
      "[695 rows x 12 columns]\n"
     ]
    }
   ],
   "source": [
    "# Imprimo el dataframe para corroborar que los valores se guardaron correctamente\n",
    "\n",
    "print(data3)"
   ]
  },
  {
   "cell_type": "code",
   "execution_count": 23,
   "metadata": {},
   "outputs": [
    {
     "name": "stdout",
     "output_type": "stream",
     "text": [
      "SERVICIO                  0.180543\n",
      "INGRESOS                 -0.217151\n",
      "PASES_A                   0.045408\n",
      "ALTAS                    -0.190919\n",
      "EGRESOS_DEFUNCION        -0.097849\n",
      "PASES_B                  -0.015265\n",
      "DIAS_CAMAS_DISPONIBLES    0.482603\n",
      "PROMEDIO_PERMANENCIA      1.000000\n",
      "GIRO_CAMA                -0.222299\n",
      "TASA_MORTALIDAD          -0.025771\n",
      "ANIO                      0.016526\n",
      "NOMBRE_EFECTOR_BADATA     0.351589\n",
      "Name: PROMEDIO_PERMANENCIA, dtype: float64\n"
     ]
    }
   ],
   "source": [
    "# Calculo la correlación de cada variable independiente (x) con la varible dependiente (Y)\n",
    "\n",
    "correlaciones = data3.corr()['PROMEDIO_PERMANENCIA']\n",
    "print(correlaciones)"
   ]
  },
  {
   "cell_type": "code",
   "execution_count": 24,
   "metadata": {},
   "outputs": [],
   "source": [
    "# Filtro con las columnas que tienen una correlación entre 0.1 y 1 y -0.1 y -1\n",
    "\n",
    "feature_selection = correlaciones[abs(correlaciones) > 0.1].index"
   ]
  },
  {
   "cell_type": "code",
   "execution_count": 25,
   "metadata": {},
   "outputs": [
    {
     "name": "stdout",
     "output_type": "stream",
     "text": [
      "(695, 12)\n",
      "(695, 7)\n"
     ]
    }
   ],
   "source": [
    "# Genero un dataframe solo con las variables seleccionadas\n",
    "\n",
    "data4 = data3[feature_selection]\n",
    "\n",
    "print(data3.shape)\n",
    "print(data4.shape)"
   ]
  },
  {
   "cell_type": "code",
   "execution_count": 26,
   "metadata": {},
   "outputs": [
    {
     "name": "stdout",
     "output_type": "stream",
     "text": [
      "      SERVICIO  INGRESOS   ALTAS  DIAS_CAMAS_DISPONIBLES  \\\n",
      "1            1      4661  4616.0                 48525.0   \n",
      "3            2       101     3.0                  6089.0   \n",
      "7            3      6536  6481.0                 54699.0   \n",
      "9            4      8015  8064.0                 37916.0   \n",
      "12           2       125    61.0                  2555.0   \n",
      "...        ...       ...     ...                     ...   \n",
      "2797         5       630   777.0                  3860.0   \n",
      "2799         2       283    97.0                  2793.0   \n",
      "2806         1         0     3.0                  3650.0   \n",
      "2809         1         0    16.0                 11680.0   \n",
      "2811         4      1838  1842.0                  8790.0   \n",
      "\n",
      "      PROMEDIO_PERMANENCIA  GIRO_CAMA  NOMBRE_EFECTOR_BADATA  \n",
      "1                    498.0     3978.0                      2  \n",
      "3                   1509.0     2026.0                      2  \n",
      "7                    382.0     5448.0                      2  \n",
      "9                    387.0     7909.0                      2  \n",
      "12                   379.0       25.0                      2  \n",
      "...                    ...        ...                    ...  \n",
      "2797                 379.0     7962.0                      3  \n",
      "2799                  66.0     4208.0                      3  \n",
      "2806                 112.0        2.0                      4  \n",
      "2809                  64.0        2.0                      4  \n",
      "2811                   3.0       77.0                      1  \n",
      "\n",
      "[695 rows x 7 columns]\n"
     ]
    }
   ],
   "source": [
    "print(data4)"
   ]
  },
  {
   "cell_type": "code",
   "execution_count": 27,
   "metadata": {},
   "outputs": [
    {
     "data": {
      "image/png": "[encoded data removed]",
      "text/plain": [
       "<Figure size 1000x1100 with 1 Axes>"
      ]
     },
     "metadata": {},
     "output_type": "display_data"
    }
   ],
   "source": [
    "top_10_features = correlaciones.abs().nlargest(10).index\n",
    "top_10_corr_values = correlaciones[top_10_features]\n",
    "\n",
    "plt.figure(figsize=(10, 11))\n",
    "plt.bar(top_10_features, top_10_corr_values)\n",
    "plt.xlabel('Features')\n",
    "plt.ylabel('Correlaciones con PROMEDIO_PERMANENCIA')\n",
    "plt.title('Top 10 Features con mayor correlación con PROMEDIO_PERMANENCIA')\n",
    "plt.xticks(rotation=90)\n",
    "plt.show()"
   ]
  },
  {
   "cell_type": "code",
   "execution_count": 28,
   "metadata": {},
   "outputs": [],
   "source": [
    "# Interpretación:\n",
    "# cuanto más aumenta la disponibilidad de camas, mayor es la permanencia de las personas internadas;\n",
    "# Cuanto más disminuye el giro-cama, mayor es el numero de días que permanece internada una persona;\n",
    "# cuantos menos ingresos y altas hay, mayor es el tiempo que las personas permanecen internadas;"
   ]
  },
  {
   "cell_type": "code",
   "execution_count": 29,
   "metadata": {},
   "outputs": [
    {
     "name": "stdout",
     "output_type": "stream",
     "text": [
      "      SERVICIO  INGRESOS   ALTAS  DIAS_CAMAS_DISPONIBLES  \\\n",
      "1            1      4661  4616.0                 48525.0   \n",
      "3            2       101     3.0                  6089.0   \n",
      "7            3      6536  6481.0                 54699.0   \n",
      "9            4      8015  8064.0                 37916.0   \n",
      "12           2       125    61.0                  2555.0   \n",
      "...        ...       ...     ...                     ...   \n",
      "2797         5       630   777.0                  3860.0   \n",
      "2799         2       283    97.0                  2793.0   \n",
      "2806         1         0     3.0                  3650.0   \n",
      "2809         1         0    16.0                 11680.0   \n",
      "2811         4      1838  1842.0                  8790.0   \n",
      "\n",
      "      PROMEDIO_PERMANENCIA  GIRO_CAMA  NOMBRE_EFECTOR_BADATA  \n",
      "1                    498.0     3978.0                      2  \n",
      "3                   1509.0     2026.0                      2  \n",
      "7                    382.0     5448.0                      2  \n",
      "9                    387.0     7909.0                      2  \n",
      "12                   379.0       25.0                      2  \n",
      "...                    ...        ...                    ...  \n",
      "2797                 379.0     7962.0                      3  \n",
      "2799                  66.0     4208.0                      3  \n",
      "2806                 112.0        2.0                      4  \n",
      "2809                  64.0        2.0                      4  \n",
      "2811                   3.0       77.0                      1  \n",
      "\n",
      "[695 rows x 7 columns]\n"
     ]
    }
   ],
   "source": [
    "print(data4)"
   ]
  },
  {
   "cell_type": "code",
   "execution_count": 30,
   "metadata": {},
   "outputs": [
    {
     "data": {
      "image/png": "[encoded data removed]",
      "text/plain": [
       "<Figure size 3000x3000 with 2 Axes>"
      ]
     },
     "metadata": {},
     "output_type": "display_data"
    }
   ],
   "source": [
    "plt.figure(figsize=(30, 30))\n",
    "sns.heatmap(data4.corr() , annot=True, cmap='coolwarm', linewidths=0.5)\n",
    "plt.title('Correlation Heatmap')\n",
    "plt.show()"
   ]
  },
  {
   "cell_type": "code",
   "execution_count": 31,
   "metadata": {},
   "outputs": [
    {
     "name": "stdout",
     "output_type": "stream",
     "text": [
      "Mean Squared Error: 5428116.510791367\n",
      "R^2 Score: 0.15102754488763814\n"
     ]
    }
   ],
   "source": [
    "# Decision Tree\n",
    "# Importar las librerías necesarias\n",
    "from sklearn.tree import DecisionTreeRegressor\n",
    "from sklearn.model_selection import train_test_split\n",
    "from sklearn.metrics import mean_squared_error, r2_score\n",
    "\n",
    "# Definir la función para evaluar el modelo\n",
    "def evaluate_model(model, X_train, X_test, y_train, y_test):\n",
    "    # Entrenamiento del modelo\n",
    "    model.fit(X_train, y_train)\n",
    "\n",
    "    # Generar predicciones con el modelo ya entrenado usando las variables predictoras de test\n",
    "    y_pred = model.predict(X_test)\n",
    "\n",
    "    # Calcular métricas comparando mi predicción de y de test contra los valores reales\n",
    "    mse = mean_squared_error(y_test, y_pred)\n",
    "    r2 = r2_score(y_test, y_pred)\n",
    "\n",
    "    # Imprimir resultados\n",
    "    print(f'Mean Squared Error: {mse}')\n",
    "    print(f'R^2 Score: {r2}')\n",
    "\n",
    "    # Devolver modelo y predicciones para poder guardar los objetos\n",
    "    return model, y_pred\n",
    "\n",
    "# Selección de variables independientes (X) y la variable objetivo (y)\n",
    "X = data4[['DIAS_CAMAS_DISPONIBLES', 'GIRO_CAMA', 'NOMBRE_EFECTOR_BADATA']]\n",
    "y = data4['PROMEDIO_PERMANENCIA']\n",
    "\n",
    "# Dividir los datos en conjuntos de entrenamiento y prueba\n",
    "X_train, X_test, y_train, y_test = train_test_split(X, y, test_size=0.2, random_state=42)\n",
    "\n",
    "# Crear el modelo de árbol de decisión\n",
    "dt_model = DecisionTreeRegressor(random_state=42)\n",
    "\n",
    "# Evaluar el modelo\n",
    "dt_model, dt_pred = evaluate_model(dt_model, X_train, X_test, y_train, y_test)\n"
   ]
  },
  {
   "cell_type": "code",
   "execution_count": 32,
   "metadata": {},
   "outputs": [],
   "source": [
    "# Usar RandomForestRegressor\n",
    "\n",
    "from sklearn.model_selection import train_test_split\n",
    "\n",
    "# Selección de variables independientes (X) y la variable objetivo (y)\n",
    "X = data4[['DIAS_CAMAS_DISPONIBLES', 'GIRO_CAMA', 'NOMBRE_EFECTOR_BADATA']]\n",
    "y = data4['PROMEDIO_PERMANENCIA']\n",
    "\n",
    "x_train, x_test, y_train, y_test = train_test_split(X, y, test_size=0.2, random_state=19)\n",
    "\n",
    "from sklearn.ensemble import RandomForestRegressor\n",
    "\n",
    "rfr = RandomForestRegressor(random_state=13)\n"
   ]
  },
  {
   "cell_type": "code",
   "execution_count": 33,
   "metadata": {},
   "outputs": [
    {
     "data": {
      "text/html": [
       "<style>#sk-container-id-1 {color: black;background-color: white;}#sk-container-id-1 pre{padding: 0;}#sk-container-id-1 div.sk-toggleable {background-color: white;}#sk-container-id-1 label.sk-toggleable__label {cursor: pointer;display: block;width: 100%;margin-bottom: 0;padding: 0.3em;box-sizing: border-box;text-align: center;}#sk-container-id-1 label.sk-toggleable__label-arrow:before {content: \"▸\";float: left;margin-right: 0.25em;color: #696969;}#sk-container-id-1 label.sk-toggleable__label-arrow:hover:before {color: black;}#sk-container-id-1 div.sk-estimator:hover label.sk-toggleable__label-arrow:before {color: black;}#sk-container-id-1 div.sk-toggleable__content {max-height: 0;max-width: 0;overflow: hidden;text-align: left;background-color: #f0f8ff;}#sk-container-id-1 div.sk-toggleable__content pre {margin: 0.2em;color: black;border-radius: 0.25em;background-color: #f0f8ff;}#sk-container-id-1 input.sk-toggleable__control:checked~div.sk-toggleable__content {max-height: 200px;max-width: 100%;overflow: auto;}#sk-container-id-1 input.sk-toggleable__control:checked~label.sk-toggleable__label-arrow:before {content: \"▾\";}#sk-container-id-1 div.sk-estimator input.sk-toggleable__control:checked~label.sk-toggleable__label {background-color: #d4ebff;}#sk-container-id-1 div.sk-label input.sk-toggleable__control:checked~label.sk-toggleable__label {background-color: #d4ebff;}#sk-container-id-1 input.sk-hidden--visually {border: 0;clip: rect(1px 1px 1px 1px);clip: rect(1px, 1px, 1px, 1px);height: 1px;margin: -1px;overflow: hidden;padding: 0;position: absolute;width: 1px;}#sk-container-id-1 div.sk-estimator {font-family: monospace;background-color: #f0f8ff;border: 1px dotted black;border-radius: 0.25em;box-sizing: border-box;margin-bottom: 0.5em;}#sk-container-id-1 div.sk-estimator:hover {background-color: #d4ebff;}#sk-container-id-1 div.sk-parallel-item::after {content: \"\";width: 100%;border-bottom: 1px solid gray;flex-grow: 1;}#sk-container-id-1 div.sk-label:hover label.sk-toggleable__label {background-color: #d4ebff;}#sk-container-id-1 div.sk-serial::before {content: \"\";position: absolute;border-left: 1px solid gray;box-sizing: border-box;top: 0;bottom: 0;left: 50%;z-index: 0;}#sk-container-id-1 div.sk-serial {display: flex;flex-direction: column;align-items: center;background-color: white;padding-right: 0.2em;padding-left: 0.2em;position: relative;}#sk-container-id-1 div.sk-item {position: relative;z-index: 1;}#sk-container-id-1 div.sk-parallel {display: flex;align-items: stretch;justify-content: center;background-color: white;position: relative;}#sk-container-id-1 div.sk-item::before, #sk-container-id-1 div.sk-parallel-item::before {content: \"\";position: absolute;border-left: 1px solid gray;box-sizing: border-box;top: 0;bottom: 0;left: 50%;z-index: -1;}#sk-container-id-1 div.sk-parallel-item {display: flex;flex-direction: column;z-index: 1;position: relative;background-color: white;}#sk-container-id-1 div.sk-parallel-item:first-child::after {align-self: flex-end;width: 50%;}#sk-container-id-1 div.sk-parallel-item:last-child::after {align-self: flex-start;width: 50%;}#sk-container-id-1 div.sk-parallel-item:only-child::after {width: 0;}#sk-container-id-1 div.sk-dashed-wrapped {border: 1px dashed gray;margin: 0 0.4em 0.5em 0.4em;box-sizing: border-box;padding-bottom: 0.4em;background-color: white;}#sk-container-id-1 div.sk-label label {font-family: monospace;font-weight: bold;display: inline-block;line-height: 1.2em;}#sk-container-id-1 div.sk-label-container {text-align: center;}#sk-container-id-1 div.sk-container {/* jupyter's `normalize.less` sets `[hidden] { display: none; }` but bootstrap.min.css set `[hidden] { display: none !important; }` so we also need the `!important` here to be able to override the default hidden behavior on the sphinx rendered scikit-learn.org. See: https://github.com/scikit-learn/scikit-learn/issues/21755 */display: inline-block !important;position: relative;}#sk-container-id-1 div.sk-text-repr-fallback {display: none;}</style><div id=\"sk-container-id-1\" class=\"sk-top-container\"><div class=\"sk-text-repr-fallback\"><pre>RandomForestRegressor(random_state=13)</pre><b>In a Jupyter environment, please rerun this cell to show the HTML representation or trust the notebook. <br />On GitHub, the HTML representation is unable to render, please try loading this page with nbviewer.org.</b></div><div class=\"sk-container\" hidden><div class=\"sk-item\"><div class=\"sk-estimator sk-toggleable\"><input class=\"sk-toggleable__control sk-hidden--visually\" id=\"sk-estimator-id-1\" type=\"checkbox\" checked><label for=\"sk-estimator-id-1\" class=\"sk-toggleable__label sk-toggleable__label-arrow\">RandomForestRegressor</label><div class=\"sk-toggleable__content\"><pre>RandomForestRegressor(random_state=13)</pre></div></div></div></div></div>"
      ],
      "text/plain": [
       "RandomForestRegressor(random_state=13)"
      ]
     },
     "execution_count": 33,
     "metadata": {},
     "output_type": "execute_result"
    }
   ],
   "source": [
    "rfr.fit(x_train, y_train)"
   ]
  },
  {
   "cell_type": "code",
   "execution_count": 34,
   "metadata": {},
   "outputs": [],
   "source": [
    "y_pred = rfr.predict(x_test)"
   ]
  },
  {
   "cell_type": "code",
   "execution_count": 35,
   "metadata": {},
   "outputs": [
    {
     "data": {
      "text/plain": [
       "841359.8519585333"
      ]
     },
     "execution_count": 35,
     "metadata": {},
     "output_type": "execute_result"
    }
   ],
   "source": [
    "mean_squared_error(y_pred, y_test)"
   ]
  },
  {
   "cell_type": "code",
   "execution_count": 36,
   "metadata": {},
   "outputs": [
    {
     "data": {
      "text/plain": [
       "0.41453296828006614"
      ]
     },
     "execution_count": 36,
     "metadata": {},
     "output_type": "execute_result"
    }
   ],
   "source": [
    "r2_score(y_pred, y_test)"
   ]
  }
 ],
 "metadata": {
  "kernelspec": {
   "display_name": "base",
   "language": "python",
   "name": "python3"
  },
  "language_info": {
   "codemirror_mode": {
    "name": "ipython",
    "version": 3
   },
   "file_extension": ".py",
   "mimetype": "text/x-python",
   "name": "python",
   "nbconvert_exporter": "python",
   "pygments_lexer": "ipython3",
   "version": "3.11.7"
  }
 },
 "nbformat": 4,
 "nbformat_minor": 2
}
