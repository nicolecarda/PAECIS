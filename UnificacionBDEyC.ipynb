{
 "cells": [
  {
   "cell_type": "code",
   "execution_count": 1,
   "metadata": {},
   "outputs": [
    {
     "name": "stderr",
     "output_type": "stream",
     "text": [
      "\n",
      "[notice] A new release of pip is available: 24.1 -> 24.1.2\n",
      "[notice] To update, run: python.exe -m pip install --upgrade pip\n"
     ]
    },
    {
     "name": "stdout",
     "output_type": "stream",
     "text": [
      "Requirement already satisfied: pandas in c:\\users\\niki\\paecis\\.venv\\lib\\site-packages (2.2.2)\n",
      "Requirement already satisfied: openpyxl in c:\\users\\niki\\paecis\\.venv\\lib\\site-packages (3.1.5)\n",
      "Requirement already satisfied: numpy>=1.26.0 in c:\\users\\niki\\paecis\\.venv\\lib\\site-packages (from pandas) (2.0.1)\n",
      "Requirement already satisfied: python-dateutil>=2.8.2 in c:\\users\\niki\\paecis\\.venv\\lib\\site-packages (from pandas) (2.9.0.post0)\n",
      "Requirement already satisfied: pytz>=2020.1 in c:\\users\\niki\\paecis\\.venv\\lib\\site-packages (from pandas) (2024.1)\n",
      "Requirement already satisfied: tzdata>=2022.7 in c:\\users\\niki\\paecis\\.venv\\lib\\site-packages (from pandas) (2024.1)\n",
      "Requirement already satisfied: et-xmlfile in c:\\users\\niki\\paecis\\.venv\\lib\\site-packages (from openpyxl) (1.1.0)\n",
      "Requirement already satisfied: six>=1.5 in c:\\users\\niki\\paecis\\.venv\\lib\\site-packages (from python-dateutil>=2.8.2->pandas) (1.16.0)\n",
      "Note: you may need to restart the kernel to use updated packages.\n"
     ]
    }
   ],
   "source": [
    "#instalo pandas\n",
    "%pip install pandas openpyxl\n",
    "#importo la librería\n",
    "import pandas as pd"
   ]
  },
  {
   "cell_type": "code",
   "execution_count": 2,
   "metadata": {},
   "outputs": [
    {
     "name": "stdout",
     "output_type": "stream",
     "text": [
      "                       Hospital     Total     Ene.     Feb.     Mar.     Abr.  \\\n",
      "0                         Total  191100.0  14613.0  13459.0  15595.0  15921.0   \n",
      "1  Hospitales grales. de agudos  132431.0  10259.0   9327.0  10887.0  10963.0   \n",
      "2                       Álvarez    9331.0    490.0    380.0    533.0    697.0   \n",
      "3                      Argerich   14601.0   1255.0   1057.0   1236.0   1182.0   \n",
      "4                        Durand   10753.0    875.0    752.0    895.0    847.0   \n",
      "\n",
      "      May.     Jun.     Jul.     Ago.     Sep.     Oct.     Nov.     Dic.  \\\n",
      "0  16380.0  16355.0  17073.0  17068.0  16545.0  16121.0  16049.0  15921.0   \n",
      "1  11344.0  11387.0  11904.0  11937.0  11447.0  11129.0  10881.0  10966.0   \n",
      "2    850.0    808.0    999.0    972.0    990.0    953.0    836.0    823.0   \n",
      "3   1229.0   1220.0   1308.0   1283.0   1213.0   1224.0   1200.0   1194.0   \n",
      "4    883.0    906.0    960.0    981.0    901.0    923.0    928.0    902.0   \n",
      "\n",
      "    Año  \n",
      "0  2005  \n",
      "1  2005  \n",
      "2  2005  \n",
      "3  2005  \n",
      "4  2005  \n"
     ]
    }
   ],
   "source": [
    "#Egresos por hospital, por mes. Datos: 2005 - 2017.\n",
    "#Filtro las filas que me dan el total por tipo de efector (general de agudo, monovalente, pediátrico)\n",
    "url_base = 'https://www.estadisticaciudad.gob.ar/eyc/wp-content/uploads/2017/05/S_MVH_AX09.xlsx'\n",
    "dfs = []\n",
    "# Loop para los años 2005 a 2017\n",
    "for year in range(2005, 2018):\n",
    "    # Leer el archivo Excel para el año actual\n",
    "    df = pd.read_excel(url_base, sheet_name=str(year), header=1)\n",
    "    # Agregar una columna con el año\n",
    "    df['Año'] = year\n",
    "    # Agregar el DataFrame a la lista\n",
    "    dfs.append(df)\n",
    "\n",
    "# Concatenar todos los DataFrames en uno solo\n",
    "df_concatenado = pd.concat(dfs, ignore_index=True)\n",
    "\n",
    "# Mostrar las primeras filas del DataFrame concatenado\n",
    "print(df_concatenado.head())"
   ]
  },
  {
   "cell_type": "code",
   "execution_count": 3,
   "metadata": {},
   "outputs": [
    {
     "name": "stdout",
     "output_type": "stream",
     "text": [
      "         Hospital    Total    Ene.    Feb.    Mar.    Abr.    May.    Jun.  \\\n",
      "2         Álvarez   9331.0   490.0   380.0   533.0   697.0   850.0   808.0   \n",
      "3        Argerich  14601.0  1255.0  1057.0  1236.0  1182.0  1229.0  1220.0   \n",
      "4          Durand  10753.0   875.0   752.0   895.0   847.0   883.0   906.0   \n",
      "5       Fernández  11637.0   918.0   883.0   934.0   961.0  1002.0  1039.0   \n",
      "6           Penna  12519.0  1027.0   894.0  1053.0  1051.0  1054.0  1055.0   \n",
      "..            ...      ...     ...     ...     ...     ...     ...     ...   \n",
      "439         Rocca    185.0     5.0     8.0    18.0    17.0    18.0    20.0   \n",
      "440   Santa Lucía   4355.0   368.0   306.0   317.0   332.0   404.0   398.0   \n",
      "441         Sardá  12880.0  1040.0  1097.0  1094.0  1172.0  1104.0  1083.0   \n",
      "442  Tobar García    401.0    32.0    32.0    32.0    32.0    30.0    37.0   \n",
      "443       Udaondo   2062.0   186.0   147.0   196.0   156.0   168.0   177.0   \n",
      "\n",
      "       Jul.    Ago.    Sep.    Oct.    Nov.    Dic.   Año  \n",
      "2     999.0   972.0   990.0   953.0   836.0   823.0  2005  \n",
      "3    1308.0  1283.0  1213.0  1224.0  1200.0  1194.0  2005  \n",
      "4     960.0   981.0   901.0   923.0   928.0   902.0  2005  \n",
      "5    1009.0  1002.0   991.0   951.0   971.0   976.0  2005  \n",
      "6    1044.0  1153.0  1053.0  1090.0   948.0  1097.0  2005  \n",
      "..      ...     ...     ...     ...     ...     ...   ...  \n",
      "439    15.0    19.0    15.0    13.0    14.0    23.0  2017  \n",
      "440   357.0   354.0   417.0   381.0   404.0   317.0  2017  \n",
      "441  1043.0  1048.0  1069.0   977.0  1069.0  1084.0  2017  \n",
      "442    33.0    34.0    31.0    34.0    35.0    39.0  2017  \n",
      "443   167.0   191.0   184.0   152.0   159.0   179.0  2017  \n",
      "\n",
      "[373 rows x 15 columns]\n"
     ]
    }
   ],
   "source": [
    "import re\n",
    "\n",
    "# Patrón específico para filtrar\n",
    "pattern = r'^(?!Hospital|Total|Obstetricia|Internación|Fuente:|Álvarez1|Durand1|Santojanni1|Vélez Sársfield1|Lagleyze2|Alvear1|1 La información)'\n",
    "\n",
    "# Aplicar el filtro y crear un nuevo DataFrame con las filas que coinciden\n",
    "prueba_totales = df_concatenado[df_concatenado['Hospital'].str.contains(pattern, case=False, regex=True)]\n",
    "\n",
    "# Imprimir el resultado para verificar\n",
    "print(prueba_totales)"
   ]
  },
  {
   "cell_type": "code",
   "execution_count": 4,
   "metadata": {},
   "outputs": [
    {
     "data": {
      "text/html": [
       "<div>\n",
       "<style scoped>\n",
       "    .dataframe tbody tr th:only-of-type {\n",
       "        vertical-align: middle;\n",
       "    }\n",
       "\n",
       "    .dataframe tbody tr th {\n",
       "        vertical-align: top;\n",
       "    }\n",
       "\n",
       "    .dataframe thead th {\n",
       "        text-align: right;\n",
       "    }\n",
       "</style>\n",
       "<table border=\"1\" class=\"dataframe\">\n",
       "  <thead>\n",
       "    <tr style=\"text-align: right;\">\n",
       "      <th></th>\n",
       "      <th>Hospital</th>\n",
       "      <th>Total</th>\n",
       "      <th>Ene.</th>\n",
       "      <th>Feb.</th>\n",
       "      <th>Mar.</th>\n",
       "      <th>Abr.</th>\n",
       "      <th>May.</th>\n",
       "      <th>Jun.</th>\n",
       "      <th>Jul.</th>\n",
       "      <th>Ago.</th>\n",
       "      <th>Sep.</th>\n",
       "      <th>Oct.</th>\n",
       "      <th>Nov.</th>\n",
       "      <th>Dic.</th>\n",
       "      <th>Año</th>\n",
       "    </tr>\n",
       "  </thead>\n",
       "  <tbody>\n",
       "    <tr>\n",
       "      <th>439</th>\n",
       "      <td>Rocca</td>\n",
       "      <td>185.0</td>\n",
       "      <td>5.0</td>\n",
       "      <td>8.0</td>\n",
       "      <td>18.0</td>\n",
       "      <td>17.0</td>\n",
       "      <td>18.0</td>\n",
       "      <td>20.0</td>\n",
       "      <td>15.0</td>\n",
       "      <td>19.0</td>\n",
       "      <td>15.0</td>\n",
       "      <td>13.0</td>\n",
       "      <td>14.0</td>\n",
       "      <td>23.0</td>\n",
       "      <td>2017</td>\n",
       "    </tr>\n",
       "    <tr>\n",
       "      <th>440</th>\n",
       "      <td>Santa Lucía</td>\n",
       "      <td>4355.0</td>\n",
       "      <td>368.0</td>\n",
       "      <td>306.0</td>\n",
       "      <td>317.0</td>\n",
       "      <td>332.0</td>\n",
       "      <td>404.0</td>\n",
       "      <td>398.0</td>\n",
       "      <td>357.0</td>\n",
       "      <td>354.0</td>\n",
       "      <td>417.0</td>\n",
       "      <td>381.0</td>\n",
       "      <td>404.0</td>\n",
       "      <td>317.0</td>\n",
       "      <td>2017</td>\n",
       "    </tr>\n",
       "    <tr>\n",
       "      <th>441</th>\n",
       "      <td>Sardá</td>\n",
       "      <td>12880.0</td>\n",
       "      <td>1040.0</td>\n",
       "      <td>1097.0</td>\n",
       "      <td>1094.0</td>\n",
       "      <td>1172.0</td>\n",
       "      <td>1104.0</td>\n",
       "      <td>1083.0</td>\n",
       "      <td>1043.0</td>\n",
       "      <td>1048.0</td>\n",
       "      <td>1069.0</td>\n",
       "      <td>977.0</td>\n",
       "      <td>1069.0</td>\n",
       "      <td>1084.0</td>\n",
       "      <td>2017</td>\n",
       "    </tr>\n",
       "    <tr>\n",
       "      <th>442</th>\n",
       "      <td>Tobar García</td>\n",
       "      <td>401.0</td>\n",
       "      <td>32.0</td>\n",
       "      <td>32.0</td>\n",
       "      <td>32.0</td>\n",
       "      <td>32.0</td>\n",
       "      <td>30.0</td>\n",
       "      <td>37.0</td>\n",
       "      <td>33.0</td>\n",
       "      <td>34.0</td>\n",
       "      <td>31.0</td>\n",
       "      <td>34.0</td>\n",
       "      <td>35.0</td>\n",
       "      <td>39.0</td>\n",
       "      <td>2017</td>\n",
       "    </tr>\n",
       "    <tr>\n",
       "      <th>443</th>\n",
       "      <td>Udaondo</td>\n",
       "      <td>2062.0</td>\n",
       "      <td>186.0</td>\n",
       "      <td>147.0</td>\n",
       "      <td>196.0</td>\n",
       "      <td>156.0</td>\n",
       "      <td>168.0</td>\n",
       "      <td>177.0</td>\n",
       "      <td>167.0</td>\n",
       "      <td>191.0</td>\n",
       "      <td>184.0</td>\n",
       "      <td>152.0</td>\n",
       "      <td>159.0</td>\n",
       "      <td>179.0</td>\n",
       "      <td>2017</td>\n",
       "    </tr>\n",
       "  </tbody>\n",
       "</table>\n",
       "</div>"
      ],
      "text/plain": [
       "         Hospital    Total    Ene.    Feb.    Mar.    Abr.    May.    Jun.  \\\n",
       "439         Rocca    185.0     5.0     8.0    18.0    17.0    18.0    20.0   \n",
       "440   Santa Lucía   4355.0   368.0   306.0   317.0   332.0   404.0   398.0   \n",
       "441         Sardá  12880.0  1040.0  1097.0  1094.0  1172.0  1104.0  1083.0   \n",
       "442  Tobar García    401.0    32.0    32.0    32.0    32.0    30.0    37.0   \n",
       "443       Udaondo   2062.0   186.0   147.0   196.0   156.0   168.0   177.0   \n",
       "\n",
       "       Jul.    Ago.    Sep.   Oct.    Nov.    Dic.   Año  \n",
       "439    15.0    19.0    15.0   13.0    14.0    23.0  2017  \n",
       "440   357.0   354.0   417.0  381.0   404.0   317.0  2017  \n",
       "441  1043.0  1048.0  1069.0  977.0  1069.0  1084.0  2017  \n",
       "442    33.0    34.0    31.0   34.0    35.0    39.0  2017  \n",
       "443   167.0   191.0   184.0  152.0   159.0   179.0  2017  "
      ]
     },
     "execution_count": 4,
     "metadata": {},
     "output_type": "execute_result"
    }
   ],
   "source": [
    "prueba_totales.tail()"
   ]
  },
  {
   "cell_type": "code",
   "execution_count": 5,
   "metadata": {},
   "outputs": [
    {
     "name": "stdout",
     "output_type": "stream",
     "text": [
      "<class 'pandas.core.frame.DataFrame'>\n"
     ]
    }
   ],
   "source": [
    "print(type(prueba_totales))"
   ]
  },
  {
   "cell_type": "code",
   "execution_count": 6,
   "metadata": {},
   "outputs": [
    {
     "data": {
      "text/plain": [
       "array(['Hospital', 'Total', 'Ene.', 'Feb.', 'Mar.', 'Abr.', 'May.',\n",
       "       'Jun.', 'Jul.', 'Ago.', 'Sep.', 'Oct.', 'Nov.', 'Dic.', 'Año'],\n",
       "      dtype=object)"
      ]
     },
     "execution_count": 6,
     "metadata": {},
     "output_type": "execute_result"
    }
   ],
   "source": [
    "prueba_totales.columns.values"
   ]
  },
  {
   "cell_type": "code",
   "execution_count": 7,
   "metadata": {},
   "outputs": [
    {
     "name": "stdout",
     "output_type": "stream",
     "text": [
      "         Hospital    Total    Ene.    Feb.    Mar.    Abr.    May.    Jun.  \\\n",
      "2         Álvarez   9331.0   490.0   380.0   533.0   697.0   850.0   808.0   \n",
      "3        Argerich  14601.0  1255.0  1057.0  1236.0  1182.0  1229.0  1220.0   \n",
      "4          Durand  10753.0   875.0   752.0   895.0   847.0   883.0   906.0   \n",
      "5       Fernández  11637.0   918.0   883.0   934.0   961.0  1002.0  1039.0   \n",
      "6           Penna  12519.0  1027.0   894.0  1053.0  1051.0  1054.0  1055.0   \n",
      "..            ...      ...     ...     ...     ...     ...     ...     ...   \n",
      "439         Rocca    185.0     5.0     8.0    18.0    17.0    18.0    20.0   \n",
      "440   Santa Lucía   4355.0   368.0   306.0   317.0   332.0   404.0   398.0   \n",
      "441         Sardá  12880.0  1040.0  1097.0  1094.0  1172.0  1104.0  1083.0   \n",
      "442  Tobar García    401.0    32.0    32.0    32.0    32.0    30.0    37.0   \n",
      "443       Udaondo   2062.0   186.0   147.0   196.0   156.0   168.0   177.0   \n",
      "\n",
      "       Jul.    Ago.    Sep.    Oct.    Nov.    Dic.   Año  \n",
      "2     999.0   972.0   990.0   953.0   836.0   823.0  2005  \n",
      "3    1308.0  1283.0  1213.0  1224.0  1200.0  1194.0  2005  \n",
      "4     960.0   981.0   901.0   923.0   928.0   902.0  2005  \n",
      "5    1009.0  1002.0   991.0   951.0   971.0   976.0  2005  \n",
      "6    1044.0  1153.0  1053.0  1090.0   948.0  1097.0  2005  \n",
      "..      ...     ...     ...     ...     ...     ...   ...  \n",
      "439    15.0    19.0    15.0    13.0    14.0    23.0  2017  \n",
      "440   357.0   354.0   417.0   381.0   404.0   317.0  2017  \n",
      "441  1043.0  1048.0  1069.0   977.0  1069.0  1084.0  2017  \n",
      "442    33.0    34.0    31.0    34.0    35.0    39.0  2017  \n",
      "443   167.0   191.0   184.0   152.0   159.0   179.0  2017  \n",
      "\n",
      "[371 rows x 15 columns]\n"
     ]
    }
   ],
   "source": [
    "pattern = r'Los servicios de Obstetricia.*períodos\\.|Las salas de Internación.*junio y julio\\.'\n",
    "\n",
    "# Filtrar y eliminar las filas que contienen las frases no deseadas\n",
    "df= prueba_totales[~prueba_totales['Hospital'].str.contains(pattern, case=False, regex=True)]\n",
    "\n",
    "# Imprimir el DataFrame resultante\n",
    "print(df)"
   ]
  },
  {
   "cell_type": "code",
   "execution_count": 8,
   "metadata": {},
   "outputs": [
    {
     "name": "stdout",
     "output_type": "stream",
     "text": [
      "Requirement already satisfied: dash in c:\\users\\niki\\paecis\\.venv\\lib\\site-packages (2.17.1)\n",
      "Requirement already satisfied: Flask<3.1,>=1.0.4 in c:\\users\\niki\\paecis\\.venv\\lib\\site-packages (from dash) (3.0.3)\n",
      "Requirement already satisfied: Werkzeug<3.1 in c:\\users\\niki\\paecis\\.venv\\lib\\site-packages (from dash) (3.0.3)\n",
      "Requirement already satisfied: plotly>=5.0.0 in c:\\users\\niki\\paecis\\.venv\\lib\\site-packages (from dash) (5.23.0)\n",
      "Requirement already satisfied: dash-html-components==2.0.0 in c:\\users\\niki\\paecis\\.venv\\lib\\site-packages (from dash) (2.0.0)\n",
      "Requirement already satisfied: dash-core-components==2.0.0 in c:\\users\\niki\\paecis\\.venv\\lib\\site-packages (from dash) (2.0.0)\n",
      "Requirement already satisfied: dash-table==5.0.0 in c:\\users\\niki\\paecis\\.venv\\lib\\site-packages (from dash) (5.0.0)\n",
      "Requirement already satisfied: importlib-metadata in c:\\users\\niki\\paecis\\.venv\\lib\\site-packages (from dash) (8.1.0)\n",
      "Requirement already satisfied: typing-extensions>=4.1.1 in c:\\users\\niki\\paecis\\.venv\\lib\\site-packages (from dash) (4.12.2)\n",
      "Requirement already satisfied: requests in c:\\users\\niki\\paecis\\.venv\\lib\\site-packages (from dash) (2.32.3)\n",
      "Requirement already satisfied: retrying in c:\\users\\niki\\paecis\\.venv\\lib\\site-packages (from dash) (1.3.4)\n",
      "Requirement already satisfied: nest-asyncio in c:\\users\\niki\\paecis\\.venv\\lib\\site-packages (from dash) (1.6.0)\n",
      "Requirement already satisfied: setuptools in c:\\users\\niki\\paecis\\.venv\\lib\\site-packages (from dash) (71.1.0)\n",
      "Requirement already satisfied: Jinja2>=3.1.2 in c:\\users\\niki\\paecis\\.venv\\lib\\site-packages (from Flask<3.1,>=1.0.4->dash) (3.1.4)\n",
      "Requirement already satisfied: itsdangerous>=2.1.2 in c:\\users\\niki\\paecis\\.venv\\lib\\site-packages (from Flask<3.1,>=1.0.4->dash) (2.2.0)\n",
      "Requirement already satisfied: click>=8.1.3 in c:\\users\\niki\\paecis\\.venv\\lib\\site-packages (from Flask<3.1,>=1.0.4->dash) (8.1.7)\n",
      "Requirement already satisfied: blinker>=1.6.2 in c:\\users\\niki\\paecis\\.venv\\lib\\site-packages (from Flask<3.1,>=1.0.4->dash) (1.8.2)\n",
      "Requirement already satisfied: tenacity>=6.2.0 in c:\\users\\niki\\paecis\\.venv\\lib\\site-packages (from plotly>=5.0.0->dash) (8.5.0)\n",
      "Requirement already satisfied: packaging in c:\\users\\niki\\paecis\\.venv\\lib\\site-packages (from plotly>=5.0.0->dash) (24.1)\n",
      "Requirement already satisfied: MarkupSafe>=2.1.1 in c:\\users\\niki\\paecis\\.venv\\lib\\site-packages (from Werkzeug<3.1->dash) (2.1.5)\n",
      "Requirement already satisfied: zipp>=0.5 in c:\\users\\niki\\paecis\\.venv\\lib\\site-packages (from importlib-metadata->dash) (3.19.2)\n",
      "Requirement already satisfied: charset-normalizer<4,>=2 in c:\\users\\niki\\paecis\\.venv\\lib\\site-packages (from requests->dash) (3.3.2)\n",
      "Requirement already satisfied: idna<4,>=2.5 in c:\\users\\niki\\paecis\\.venv\\lib\\site-packages (from requests->dash) (3.7)\n",
      "Requirement already satisfied: urllib3<3,>=1.21.1 in c:\\users\\niki\\paecis\\.venv\\lib\\site-packages (from requests->dash) (2.2.2)\n",
      "Requirement already satisfied: certifi>=2017.4.17 in c:\\users\\niki\\paecis\\.venv\\lib\\site-packages (from requests->dash) (2024.7.4)\n",
      "Requirement already satisfied: six>=1.7.0 in c:\\users\\niki\\paecis\\.venv\\lib\\site-packages (from retrying->dash) (1.16.0)\n",
      "Requirement already satisfied: colorama in c:\\users\\niki\\paecis\\.venv\\lib\\site-packages (from click>=8.1.3->Flask<3.1,>=1.0.4->dash) (0.4.6)\n",
      "Note: you may need to restart the kernel to use updated packages.\n"
     ]
    },
    {
     "name": "stderr",
     "output_type": "stream",
     "text": [
      "\n",
      "[notice] A new release of pip is available: 24.1 -> 24.1.2\n",
      "[notice] To update, run: python.exe -m pip install --upgrade pip\n"
     ]
    },
    {
     "name": "stdout",
     "output_type": "stream",
     "text": [
      "Requirement already satisfied: plotly in c:\\users\\niki\\paecis\\.venv\\lib\\site-packages (5.23.0)\n",
      "Requirement already satisfied: tenacity>=6.2.0 in c:\\users\\niki\\paecis\\.venv\\lib\\site-packages (from plotly) (8.5.0)\n",
      "Requirement already satisfied: packaging in c:\\users\\niki\\paecis\\.venv\\lib\\site-packages (from plotly) (24.1)\n",
      "Note: you may need to restart the kernel to use updated packages.\n"
     ]
    },
    {
     "name": "stderr",
     "output_type": "stream",
     "text": [
      "\n",
      "[notice] A new release of pip is available: 24.1 -> 24.1.2\n",
      "[notice] To update, run: python.exe -m pip install --upgrade pip\n"
     ]
    }
   ],
   "source": [
    "# Instalamos librerias para dashboard interactivo\n",
    "\n",
    "%pip install dash\n",
    "%pip install plotly"
   ]
  },
  {
   "cell_type": "code",
   "execution_count": 9,
   "metadata": {},
   "outputs": [],
   "source": [
    "import pandas as pd\n",
    "import dash\n",
    "from dash import html, dcc\n",
    "from dash.dependencies import Input, Output, State\n",
    "import plotly.graph_objects as go\n",
    "import plotly.express as px\n",
    "from dash import no_update\n",
    "import datetime as dt"
   ]
  },
  {
   "cell_type": "code",
   "execution_count": 10,
   "metadata": {},
   "outputs": [
    {
     "name": "stdout",
     "output_type": "stream",
     "text": [
      "         Hospital    Total    Ene.    Feb.    Mar.    Abr.    May.    Jun.  \\\n",
      "2         Álvarez   9331.0   490.0   380.0   533.0   697.0   850.0   808.0   \n",
      "3        Argerich  14601.0  1255.0  1057.0  1236.0  1182.0  1229.0  1220.0   \n",
      "4          Durand  10753.0   875.0   752.0   895.0   847.0   883.0   906.0   \n",
      "5       Fernández  11637.0   918.0   883.0   934.0   961.0  1002.0  1039.0   \n",
      "6           Penna  12519.0  1027.0   894.0  1053.0  1051.0  1054.0  1055.0   \n",
      "..            ...      ...     ...     ...     ...     ...     ...     ...   \n",
      "439         Rocca    185.0     5.0     8.0    18.0    17.0    18.0    20.0   \n",
      "440   Santa Lucía   4355.0   368.0   306.0   317.0   332.0   404.0   398.0   \n",
      "441         Sardá  12880.0  1040.0  1097.0  1094.0  1172.0  1104.0  1083.0   \n",
      "442  Tobar García    401.0    32.0    32.0    32.0    32.0    30.0    37.0   \n",
      "443       Udaondo   2062.0   186.0   147.0   196.0   156.0   168.0   177.0   \n",
      "\n",
      "       Jul.    Ago.    Sep.    Oct.    Nov.    Dic.   Año  \n",
      "2     999.0   972.0   990.0   953.0   836.0   823.0  2005  \n",
      "3    1308.0  1283.0  1213.0  1224.0  1200.0  1194.0  2005  \n",
      "4     960.0   981.0   901.0   923.0   928.0   902.0  2005  \n",
      "5    1009.0  1002.0   991.0   951.0   971.0   976.0  2005  \n",
      "6    1044.0  1153.0  1053.0  1090.0   948.0  1097.0  2005  \n",
      "..      ...     ...     ...     ...     ...     ...   ...  \n",
      "439    15.0    19.0    15.0    13.0    14.0    23.0  2017  \n",
      "440   357.0   354.0   417.0   381.0   404.0   317.0  2017  \n",
      "441  1043.0  1048.0  1069.0   977.0  1069.0  1084.0  2017  \n",
      "442    33.0    34.0    31.0    34.0    35.0    39.0  2017  \n",
      "443   167.0   191.0   184.0   152.0   159.0   179.0  2017  \n",
      "\n",
      "[371 rows x 15 columns]\n"
     ]
    }
   ],
   "source": [
    "print(df)"
   ]
  },
  {
   "cell_type": "code",
   "execution_count": 11,
   "metadata": {},
   "outputs": [
    {
     "name": "stderr",
     "output_type": "stream",
     "text": [
      "C:\\Users\\Niki\\AppData\\Local\\Temp\\ipykernel_12688\\173564318.py:6: SettingWithCopyWarning: \n",
      "A value is trying to be set on a copy of a slice from a DataFrame.\n",
      "Try using .loc[row_indexer,col_indexer] = value instead\n",
      "\n",
      "See the caveats in the documentation: https://pandas.pydata.org/pandas-docs/stable/user_guide/indexing.html#returning-a-view-versus-a-copy\n",
      "  df[mes] = pd.to_numeric(df[mes], errors='coerce')\n"
     ]
    }
   ],
   "source": [
    "# Lista de meses\n",
    "meses = ['Ene.', 'Feb.', 'Mar.', 'Abr.', 'May.', 'Jun.', 'Jul.', 'Ago.', 'Sep.', 'Oct.', 'Nov.', 'Dic.']\n",
    "\n",
    "# Convertir todas las columnas de meses a tipo float usando un bucle\n",
    "for mes in meses:\n",
    "    df[mes] = pd.to_numeric(df[mes], errors='coerce')"
   ]
  },
  {
   "cell_type": "code",
   "execution_count": 12,
   "metadata": {},
   "outputs": [
    {
     "data": {
      "text/html": [
       "\n",
       "        <iframe\n",
       "            width=\"100%\"\n",
       "            height=\"650\"\n",
       "            src=\"http://127.0.0.1:8050/\"\n",
       "            frameborder=\"0\"\n",
       "            allowfullscreen\n",
       "            \n",
       "        ></iframe>\n",
       "        "
      ],
      "text/plain": [
       "<IPython.lib.display.IFrame at 0x1c7559151c0>"
      ]
     },
     "metadata": {},
     "output_type": "display_data"
    }
   ],
   "source": [
    "# Importar las bibliotecas necesarias\n",
    "import dash\n",
    "from dash import dcc, html\n",
    "from dash.dependencies import Input, Output\n",
    "import pandas as pd\n",
    "import plotly.express as px\n",
    "\n",
    "# Crear la aplicación Dash\n",
    "app = dash.Dash(__name__)\n",
    "\n",
    "# Configurar para no mostrar excepciones hasta que se ejecute el callback\n",
    "app.config.suppress_callback_exceptions = True\n",
    "\n",
    "# Layout de la aplicación Dash\n",
    "app.layout = html.Div(children=[\n",
    "    html.H1('Dashboard de Egresos Hospitalarios', style={'textAlign': 'center', 'color': 'white', 'font-size': 26}),\n",
    "\n",
    "    # Primera división para seleccionar el hospital y el año\n",
    "    html.Div([\n",
    "        html.Div([\n",
    "            html.H2('Seleccionar Hospital:', style={'margin-right': '2em', 'color': 'white'}),\n",
    "            dcc.RadioItems(\n",
    "                id='Hospital',\n",
    "                options=[{'label': hospital, 'value': hospital} for hospital in df['Hospital'].unique()],\n",
    "                value=df['Hospital'].iloc[0],  # Valor inicial\n",
    "                inline=True,\n",
    "                labelStyle={'color': 'white'}  # Aplicar estilo de color blanco a las etiquetas\n",
    "            )\n",
    "        ], style={'display': 'flex', 'align-items': 'center', 'color': 'white'}),\n",
    "        \n",
    "        html.Div([\n",
    "            html.H2('Seleccionar Año:', style={'margin-left': '2em', 'color': 'white'}),\n",
    "            dcc.Dropdown(\n",
    "                id='Año',\n",
    "                options=[{'label': str(year), 'value': year} for year in df['Año'].unique()],\n",
    "                value=df['Año'].iloc[0]  # Valor inicial\n",
    "            )\n",
    "        ])\n",
    "    ], style={'backgroundColor': '#000', 'padding': '10px'}),\n",
    "\n",
    "    # Segunda división para mostrar los gráficos\n",
    "    html.Div([\n",
    "        html.Div(id='plot1', style={'margin': '10px'}),\n",
    "        html.Div(id='plot2', style={'margin': '10px'})\n",
    "    ])\n",
    "], style={'backgroundColor': '#000'})  # Fondo oscuro para contraste\n",
    "\n",
    "\n",
    "# Callback para actualizar los gráficos cuando se selecciona un hospital y un año\n",
    "@app.callback(\n",
    "    [Output('plot1', 'children'), Output('plot2', 'children')],\n",
    "    [Input('Hospital', 'value'), Input('Año', 'value')]\n",
    ")\n",
    "\n",
    "\n",
    "def update_plots(selected_hospital, selected_year):\n",
    "    try:\n",
    "        # Filtrar datos según hospital y año seleccionados\n",
    "        filtered_df = df[(df['Hospital'] == selected_hospital) & (df['Año'] == selected_year)]\n",
    "\n",
    "        # Plot 1: Promedio de Egresos por mes\n",
    "        est_data = filtered_df[['Ene.', 'Feb.', 'Mar.', 'Abr.', 'May.', 'Jun.', 'Jul.', 'Ago.', 'Sep.', 'Oct.', 'Nov.', 'Dic.']].mean()\n",
    "        fig1 = px.pie(values=est_data, names=est_data.index, title=f'{selected_hospital} : Promedio de Egresos')\n",
    "        plot1 = dcc.Graph(figure=fig1)\n",
    "\n",
    "        # Plot 2: Egresos totales\n",
    "        fig2 = px.bar(filtered_df, x=['Ene.', 'Feb.', 'Mar.', 'Abr.', 'May.', 'Jun.', 'Jul.', 'Ago.', 'Sep.', 'Oct.', 'Nov.', 'Dic.'], y='Total', title=f'{selected_hospital} : Egresos totales')\n",
    "        plot2 = dcc.Graph(figure=fig2)\n",
    "\n",
    "        return plot1, plot2\n",
    "\n",
    "    except Exception as e:\n",
    "        print(f\"Error en callback: {str(e)}\")\n",
    "        return None, None  # Devolver None en caso de error\n",
    "\n",
    "# Ejecutar la aplicación Dash\n",
    "if __name__ == '__main__':\n",
    "    app.run_server(debug=True)\n"
   ]
  }
 ],
 "metadata": {
  "kernelspec": {
   "display_name": "base",
   "language": "python",
   "name": "python3"
  },
  "language_info": {
   "codemirror_mode": {
    "name": "ipython",
    "version": 3
   },
   "file_extension": ".py",
   "mimetype": "text/x-python",
   "name": "python",
   "nbconvert_exporter": "python",
   "pygments_lexer": "ipython3",
   "version": "3.12.3"
  }
 },
 "nbformat": 4,
 "nbformat_minor": 2
}
